{
 "cells": [
  {
   "cell_type": "markdown",
   "metadata": {},
   "source": [
    "# Intro to neural nets with fastai\n",
    "> Understanding building block of fastai and pytorch.\n",
    "\n",
    "- toc: true \n",
    "- badges: true\n",
    "- comments: true\n",
    "- author: Martynas Lozys\n",
    "- image: images/diagram.png\n",
    "- categories: [fastai, pytorch, neural net, beginner, mnist]"
   ]
  },
  {
   "cell_type": "markdown",
   "metadata": {},
   "source": [
    "# MNIST fastai walkthrough\n",
    "\n",
    "The aim of this notebook is to go through and understand steps in https://github.com/fastai/fastbook/blob/master/04_mnist_basics.ipynb. \n",
    "In particular, how MNIST images are classified starting from getting data and ending with neural net parameter optimization.\n",
    "In most cases I will try to take existing fastai implementation and distil it to constituent parts using basic PyTorch operations."
   ]
  },
  {
   "cell_type": "markdown",
   "metadata": {},
   "source": [
    "# Imports"
   ]
  },
  {
   "cell_type": "code",
   "execution_count": 1,
   "metadata": {},
   "outputs": [],
   "source": [
    "import numpy as np\n",
    "import pandas as pd\n",
    "from pathlib import Path\n",
    "from IPython.core.display import display, HTML\n",
    "import math\n",
    "import matplotlib.pyplot as plt\n",
    "import functools\n",
    "import pylab\n",
    "\n",
    "from fastai.datasets import untar_data, URLs\n",
    "from fastai.vision.image import *\n",
    "from fastai.metrics import accuracy\n",
    "\n",
    "import torch\n",
    "from torch import nn\n",
    "from torchvision import transforms\n",
    "from torch.utils.data import DataLoader\n",
    "from torch import tensor\n",
    "from torch.optim import SGD"
   ]
  },
  {
   "cell_type": "code",
   "execution_count": 2,
   "metadata": {},
   "outputs": [
    {
     "data": {
      "text/html": [
       "<style>.container { width:100% !important; }</style>"
      ],
      "text/plain": [
       "<IPython.core.display.HTML object>"
      ]
     },
     "metadata": {},
     "output_type": "display_data"
    }
   ],
   "source": [
    "%load_ext autoreload\n",
    "%autoreload 2\n",
    "%matplotlib inline\n",
    "\n",
    "pylab.rcParams['figure.figsize'] = (15, 8)\n",
    "pylab.rcParams['font.size'] = 10\n",
    "display(HTML(\"<style>.container { width:100% !important; }</style>\"))\n",
    "pd.set_option('display.max_columns', 100)\n",
    "pd.set_option('display.max_rows', 100)\n",
    "pd.set_option('display.max_colwidth', -1)\n",
    "pd.set_option('display.float_format', lambda x: '%.2f' % x)"
   ]
  },
  {
   "cell_type": "markdown",
   "metadata": {},
   "source": [
    "# Inspect data\n",
    "\n",
    "Get data from pre-stored link in one of fastai modules and inspect the content"
   ]
  },
  {
   "cell_type": "code",
   "execution_count": 3,
   "metadata": {},
   "outputs": [
    {
     "data": {
      "text/plain": [
       "'https://s3.amazonaws.com/fast-ai-imageclas/mnist_png'"
      ]
     },
     "execution_count": 3,
     "metadata": {},
     "output_type": "execute_result"
    }
   ],
   "source": [
    "URLs.MNIST"
   ]
  },
  {
   "cell_type": "code",
   "execution_count": 4,
   "metadata": {},
   "outputs": [
    {
     "data": {
      "text/plain": [
       "PosixPath('/root/.fastai/data/mnist_png')"
      ]
     },
     "execution_count": 4,
     "metadata": {},
     "output_type": "execute_result"
    }
   ],
   "source": [
    "data_path = untar_data(URLs.MNIST)\n",
    "data_path"
   ]
  },
  {
   "cell_type": "markdown",
   "metadata": {},
   "source": [
    "Dataset is already split into testing and training"
   ]
  },
  {
   "cell_type": "code",
   "execution_count": 5,
   "metadata": {},
   "outputs": [
    {
     "data": {
      "text/plain": [
       "[PosixPath('/root/.fastai/data/mnist_png/testing'),\n",
       " PosixPath('/root/.fastai/data/mnist_png/training')]"
      ]
     },
     "execution_count": 5,
     "metadata": {},
     "output_type": "execute_result"
    }
   ],
   "source": [
    "data_path.ls()"
   ]
  },
  {
   "cell_type": "markdown",
   "metadata": {},
   "source": [
    "Each has separate folders for target classes 0 - 9"
   ]
  },
  {
   "cell_type": "code",
   "execution_count": 6,
   "metadata": {},
   "outputs": [
    {
     "data": {
      "text/plain": [
       "[PosixPath('/root/.fastai/data/mnist_png/testing/5'),\n",
       " PosixPath('/root/.fastai/data/mnist_png/testing/6'),\n",
       " PosixPath('/root/.fastai/data/mnist_png/testing/4'),\n",
       " PosixPath('/root/.fastai/data/mnist_png/testing/1'),\n",
       " PosixPath('/root/.fastai/data/mnist_png/testing/9'),\n",
       " PosixPath('/root/.fastai/data/mnist_png/testing/7'),\n",
       " PosixPath('/root/.fastai/data/mnist_png/testing/3'),\n",
       " PosixPath('/root/.fastai/data/mnist_png/testing/2'),\n",
       " PosixPath('/root/.fastai/data/mnist_png/testing/8'),\n",
       " PosixPath('/root/.fastai/data/mnist_png/testing/0')]"
      ]
     },
     "execution_count": 6,
     "metadata": {},
     "output_type": "execute_result"
    }
   ],
   "source": [
    "Path.joinpath(data_path, 'testing').ls()"
   ]
  },
  {
   "cell_type": "markdown",
   "metadata": {},
   "source": [
    "See number of images in each, around 80/20% split"
   ]
  },
  {
   "cell_type": "code",
   "execution_count": 7,
   "metadata": {},
   "outputs": [
    {
     "data": {
      "text/plain": [
       "['Number of images in training set 5923, test set 980',\n",
       " 'Number of images in training set 6742, test set 1135',\n",
       " 'Number of images in training set 5958, test set 1032',\n",
       " 'Number of images in training set 6131, test set 1010',\n",
       " 'Number of images in training set 5842, test set 982',\n",
       " 'Number of images in training set 5421, test set 892',\n",
       " 'Number of images in training set 5918, test set 958',\n",
       " 'Number of images in training set 6265, test set 1028',\n",
       " 'Number of images in training set 5851, test set 974',\n",
       " 'Number of images in training set 5949, test set 1009']"
      ]
     },
     "execution_count": 7,
     "metadata": {},
     "output_type": "execute_result"
    }
   ],
   "source": [
    "[f\"Number of images in training set {len(Path.joinpath(data_path, 'training', str(label)).ls())}, \"\n",
    " f\"test set {len(Path.joinpath(data_path, 'testing', str(label)).ls())}\"\n",
    " for label in range(10)]"
   ]
  },
  {
   "cell_type": "markdown",
   "metadata": {},
   "source": [
    "Each image has identifier in its filename"
   ]
  },
  {
   "cell_type": "code",
   "execution_count": 8,
   "metadata": {},
   "outputs": [
    {
     "data": {
      "text/plain": [
       "[PosixPath('/root/.fastai/data/mnist_png/training/0/15559.png'),\n",
       " PosixPath('/root/.fastai/data/mnist_png/training/0/55745.png'),\n",
       " PosixPath('/root/.fastai/data/mnist_png/training/0/4340.png'),\n",
       " PosixPath('/root/.fastai/data/mnist_png/training/0/26073.png'),\n",
       " PosixPath('/root/.fastai/data/mnist_png/training/0/20548.png'),\n",
       " PosixPath('/root/.fastai/data/mnist_png/training/0/19492.png'),\n",
       " PosixPath('/root/.fastai/data/mnist_png/training/0/31470.png'),\n",
       " PosixPath('/root/.fastai/data/mnist_png/training/0/8323.png'),\n",
       " PosixPath('/root/.fastai/data/mnist_png/training/0/19009.png'),\n",
       " PosixPath('/root/.fastai/data/mnist_png/training/0/11409.png')]"
      ]
     },
     "execution_count": 8,
     "metadata": {},
     "output_type": "execute_result"
    }
   ],
   "source": [
    "Path.joinpath(data_path, 'training', '0').ls()[:10]"
   ]
  },
  {
   "cell_type": "markdown",
   "metadata": {},
   "source": [
    "Images are of size 28 x 28 pixels, monochrome"
   ]
  },
  {
   "cell_type": "code",
   "execution_count": 9,
   "metadata": {},
   "outputs": [
    {
     "name": "stdout",
     "output_type": "stream",
     "text": [
      "(28, 28)\n"
     ]
    },
    {
     "data": {
      "image/png": "[encoded data removed]",
      "text/plain": [
       "<PIL.PngImagePlugin.PngImageFile image mode=L size=28x28 at 0x7F4DC2B1B7F0>"
      ]
     },
     "execution_count": 9,
     "metadata": {},
     "output_type": "execute_result"
    }
   ],
   "source": [
    "im = PIL.Image.open('/root/.fastai/data/mnist_png/training/0/15559.png')\n",
    "print(im.size)\n",
    "im"
   ]
  },
  {
   "cell_type": "markdown",
   "metadata": {},
   "source": [
    "# From images to tensors"
   ]
  },
  {
   "cell_type": "markdown",
   "metadata": {},
   "source": [
    "Load image from previous section to tensor, check it's type and dimensions"
   ]
  },
  {
   "cell_type": "code",
   "execution_count": 10,
   "metadata": {},
   "outputs": [
    {
     "data": {
      "text/plain": [
       "(torch.Tensor, torch.Size([1, 28, 28]))"
      ]
     },
     "execution_count": 10,
     "metadata": {},
     "output_type": "execute_result"
    }
   ],
   "source": [
    "im_tensor = transforms.ToTensor()(im)\n",
    "type(im_tensor), im_tensor.shape"
   ]
  },
  {
   "cell_type": "markdown",
   "metadata": {},
   "source": [
    "Load few images from a single class into tensor. Note that there's one extra dimension, so we need to reshape into rank 2 before stacking"
   ]
  },
  {
   "cell_type": "code",
   "execution_count": 11,
   "metadata": {},
   "outputs": [],
   "source": [
    "zeroes_path = Path.joinpath(data_path, 'training', '0').ls()[:10]\n",
    "zeroes = torch.stack([transforms.ToTensor()(PIL.Image.open(image_path)).reshape((28, 28))\n",
    "                      for image_path in zeroes_path])"
   ]
  },
  {
   "cell_type": "markdown",
   "metadata": {},
   "source": [
    "Now this tensor contains first 10 images from zeroes category"
   ]
  },
  {
   "cell_type": "code",
   "execution_count": 12,
   "metadata": {},
   "outputs": [
    {
     "name": "stdout",
     "output_type": "stream",
     "text": [
      "torch.Size([10, 28, 28])\n"
     ]
    },
    {
     "data": {
      "text/plain": [
       "<matplotlib.image.AxesImage at 0x7f4dc1d4db00>"
      ]
     },
     "execution_count": 12,
     "metadata": {},
     "output_type": "execute_result"
    },
    {
     "data": {
      "image/png": "[encoded data removed]",
      "text/plain": [
       "<Figure size 1080x576 with 1 Axes>"
      ]
     },
     "metadata": {
      "needs_background": "light"
     },
     "output_type": "display_data"
    }
   ],
   "source": [
    "print(zeroes.shape)\n",
    "plt.imshow(zeroes[0])"
   ]
  },
  {
   "cell_type": "markdown",
   "metadata": {},
   "source": [
    "Now concatenate tensors loaded from couple categories"
   ]
  },
  {
   "cell_type": "code",
   "execution_count": 13,
   "metadata": {},
   "outputs": [],
   "source": [
    "class_paths = [Path.joinpath(data_path, 'training', '0'), \n",
    "               Path.joinpath(data_path, 'training', '1')]\n",
    "NUM_SAMPLES = 10\n",
    "\n",
    "\n",
    "zeroes_and_ones = torch.cat([\n",
    "    torch.stack([transforms.ToTensor()(PIL.Image.open(image_path)).reshape((28, 28))\n",
    "                 for image_path in class_path.ls()[:NUM_SAMPLES]])\n",
    "    for class_path in class_paths\n",
    "])"
   ]
  },
  {
   "cell_type": "markdown",
   "metadata": {},
   "source": [
    "Small utitlity to show few images at once"
   ]
  },
  {
   "cell_type": "code",
   "execution_count": 14,
   "metadata": {},
   "outputs": [],
   "source": [
    "import math\n",
    "def show_images(ims, nrows=1, ncols=None):\n",
    "    if ncols is None: ncols = int(math.ceil(len(ims) / nrows))\n",
    "    axs = plt.subplots(nrows, ncols)[1].flat\n",
    "    for im, ax in zip(ims, axs): ax.imshow(im)"
   ]
  },
  {
   "cell_type": "markdown",
   "metadata": {},
   "source": [
    "Now we have images from both classes loaded in a single tensor"
   ]
  },
  {
   "cell_type": "code",
   "execution_count": 15,
   "metadata": {},
   "outputs": [
    {
     "name": "stdout",
     "output_type": "stream",
     "text": [
      "torch.Size([20, 28, 28])\n"
     ]
    },
    {
     "data": {
      "image/png": "[encoded data removed]",
      "text/plain": [
       "<Figure size 1080x576 with 2 Axes>"
      ]
     },
     "metadata": {
      "needs_background": "light"
     },
     "output_type": "display_data"
    }
   ],
   "source": [
    "print(zeroes_and_ones.shape)\n",
    "show_images((zeroes_and_ones[0], zeroes_and_ones[-1]))"
   ]
  },
  {
   "cell_type": "markdown",
   "metadata": {},
   "source": [
    "Input look already scaled, so don't need to take extra preprocessing steps"
   ]
  },
  {
   "cell_type": "code",
   "execution_count": 16,
   "metadata": {},
   "outputs": [
    {
     "data": {
      "text/plain": [
       "(tensor(0.), tensor(1.))"
      ]
     },
     "execution_count": 16,
     "metadata": {},
     "output_type": "execute_result"
    }
   ],
   "source": [
    "zeroes_and_ones.min(), zeroes_and_ones.max() "
   ]
  },
  {
   "cell_type": "markdown",
   "metadata": {},
   "source": [
    "Reshape images into vectors, such that each image is a row / observation, that's our prepared x data"
   ]
  },
  {
   "cell_type": "code",
   "execution_count": 17,
   "metadata": {},
   "outputs": [
    {
     "data": {
      "text/plain": [
       "torch.Size([20, 784])"
      ]
     },
     "execution_count": 17,
     "metadata": {},
     "output_type": "execute_result"
    }
   ],
   "source": [
    "x = zeroes_and_ones.view(-1, 28 * 28)\n",
    "x.shape"
   ]
  },
  {
   "cell_type": "markdown",
   "metadata": {},
   "source": [
    "## Load labels to tensor"
   ]
  },
  {
   "cell_type": "markdown",
   "metadata": {},
   "source": [
    "Extract labels from image folder path and get number of images in each"
   ]
  },
  {
   "cell_type": "code",
   "execution_count": 18,
   "metadata": {},
   "outputs": [
    {
     "data": {
      "text/plain": [
       "[(0, 5923), (1, 6742)]"
      ]
     },
     "execution_count": 18,
     "metadata": {},
     "output_type": "execute_result"
    }
   ],
   "source": [
    "labels_sizes = [(int(str(path).split('/')[-1]), len(path.ls()))\n",
    "                for path in class_paths]\n",
    "labels_sizes"
   ]
  },
  {
   "cell_type": "markdown",
   "metadata": {},
   "source": [
    "Repeat each label number of times specified by number of items in class"
   ]
  },
  {
   "cell_type": "code",
   "execution_count": 19,
   "metadata": {},
   "outputs": [
    {
     "name": "stdout",
     "output_type": "stream",
     "text": [
      "Target shape as expected: True\n"
     ]
    },
    {
     "data": {
      "text/plain": [
       "tensor([0, 0, 0,  ..., 1, 1, 1])"
      ]
     },
     "execution_count": 19,
     "metadata": {},
     "output_type": "execute_result"
    }
   ],
   "source": [
    "y = tensor([label for label_size in labels_sizes \n",
    "            for label in [label_size[0]] * label_size[1]])\n",
    "print(f'Target shape as expected: {y.shape[0] == labels_sizes[0][1] + labels_sizes[1][1]}')\n",
    "y"
   ]
  },
  {
   "cell_type": "markdown",
   "metadata": {},
   "source": [
    "# Customized Image Dataset\n",
    "\n",
    "Based on findings above, let's create a single class performing all these steps and returning features (X) and targets (y) as tensors."
   ]
  },
  {
   "cell_type": "code",
   "execution_count": 20,
   "metadata": {},
   "outputs": [],
   "source": [
    "class ImageDataSet:\n",
    "    \n",
    "    def __init__(self, data_path, image_size=(28, 28), num_samples=None):\n",
    "        self.data_path = data_path\n",
    "        self.image_size = image_size\n",
    "        self.num_samples = num_samples\n",
    "        \n",
    "    def load_class_images_to_tensor_list(self, class_path):\n",
    "        return torch.stack([transforms.ToTensor()(PIL.Image.open(image_path)).reshape(self.image_size) \n",
    "                            for image_path in class_path.ls()[:self.num_samples]]).float()\n",
    "    \n",
    "    def stack_class_tensors(self):\n",
    "        return torch.cat([\n",
    "            self.load_class_images_to_tensor_list(class_path)\n",
    "            for class_path in sorted(self.data_path.ls())\n",
    "        ])\n",
    "    \n",
    "    @staticmethod\n",
    "    def tensor_to_vector(t):\n",
    "        return t.view(-1, t.shape[-1] * t.shape[-2])\n",
    "    \n",
    "    @property\n",
    "    def x(self):\n",
    "        stacked_tensor = self.stack_class_tensors()\n",
    "        return self.tensor_to_vector(stacked_tensor)\n",
    "    \n",
    "    @property\n",
    "    def y(self):\n",
    "        labels_sizes = [\n",
    "            (self._extract_label_from_path(path), len(path.ls()[:self.num_samples]))\n",
    "            for path in sorted(self.data_path.ls())\n",
    "        ]\n",
    "        return tensor([label for label_size in labels_sizes \n",
    "                       for label in [label_size[0]] * label_size[1]])\n",
    "\n",
    "    @staticmethod\n",
    "    def _extract_label_from_path(path):\n",
    "        return int(str(path).split('/')[-1])"
   ]
  },
  {
   "cell_type": "markdown",
   "metadata": {},
   "source": [
    "Use this class to create training and validation sets with 100 samples each"
   ]
  },
  {
   "cell_type": "code",
   "execution_count": 21,
   "metadata": {},
   "outputs": [],
   "source": [
    "ds = ImageDataSet(data_path=Path.joinpath(data_path, 'training'), num_samples=100)\n",
    "train_x, train_y = ds.x, ds.y\n",
    "\n",
    "ds_val = ImageDataSet(Path.joinpath(data_path, 'testing'), num_samples=100)\n",
    "valid_x, valid_y = ds_val.x, ds_val.y"
   ]
  },
  {
   "cell_type": "markdown",
   "metadata": {},
   "source": [
    "Shapes and images look as expected"
   ]
  },
  {
   "cell_type": "code",
   "execution_count": 22,
   "metadata": {},
   "outputs": [
    {
     "name": "stdout",
     "output_type": "stream",
     "text": [
      "torch.Size([1000, 784]) torch.Size([1000])\n",
      "tensor(0) tensor(9)\n"
     ]
    },
    {
     "data": {
      "image/png": "[encoded data removed]",
      "text/plain": [
       "<Figure size 1080x576 with 2 Axes>"
      ]
     },
     "metadata": {
      "needs_background": "light"
     },
     "output_type": "display_data"
    }
   ],
   "source": [
    "print(train_x.shape, train_y.shape)\n",
    "print(train_y[0], train_y[-1])\n",
    "show_images((train_x[0].view(28, 28), train_x[-1].view(28, 28)))"
   ]
  },
  {
   "cell_type": "markdown",
   "metadata": {},
   "source": [
    "Zip x and y into single data structures"
   ]
  },
  {
   "cell_type": "code",
   "execution_count": 23,
   "metadata": {},
   "outputs": [],
   "source": [
    "dset = list(zip(train_x, train_y))\n",
    "valid_dset = list(zip(valid_x, valid_y))"
   ]
  },
  {
   "cell_type": "markdown",
   "metadata": {},
   "source": [
    "Check again that everything is correct"
   ]
  },
  {
   "cell_type": "code",
   "execution_count": 24,
   "metadata": {},
   "outputs": [
    {
     "name": "stdout",
     "output_type": "stream",
     "text": [
      "tensor(0) tensor(9)\n"
     ]
    },
    {
     "data": {
      "image/png": "[encoded data removed]",
      "text/plain": [
       "<Figure size 1080x576 with 2 Axes>"
      ]
     },
     "metadata": {
      "needs_background": "light"
     },
     "output_type": "display_data"
    }
   ],
   "source": [
    "x1, y1 = valid_dset[0]\n",
    "x2, y2 = valid_dset[-1]\n",
    "print(y1, y2)\n",
    "show_images((x1.view(28, 28), x2.view(28, 28)))"
   ]
  },
  {
   "cell_type": "markdown",
   "metadata": {},
   "source": [
    "# Custom Data Loader"
   ]
  },
  {
   "cell_type": "markdown",
   "metadata": {},
   "source": [
    "Now let's pass these created datasets to training and validation data loaders that randomize image order and allow us to stream inputs in batches for stochastic gradient descent"
   ]
  },
  {
   "cell_type": "code",
   "execution_count": 25,
   "metadata": {},
   "outputs": [],
   "source": [
    "import random\n",
    "\n",
    "class DataLoader_:\n",
    "    \n",
    "    def __init__(self, dset, batch_size):\n",
    "        self.chunked_dset = self.chunker(dset, batch_size)\n",
    "        \n",
    "    def chunker(self, dset, batch_size):\n",
    "        random.shuffle(dset)\n",
    "        return (dset[idx:idx + batch_size] \n",
    "                for idx in range(0, len(dset), batch_size))\n",
    "    \n",
    "    def __iter__(self):\n",
    "        return self\n",
    "    \n",
    "    def __next__(self):\n",
    "        try:\n",
    "            x_b, y_b = list(zip(*next(self.chunked_dset)))\n",
    "            return torch.stack(x_b), torch.stack(y_b)\n",
    "        except IndexError:\n",
    "            raise StopIteration()"
   ]
  },
  {
   "cell_type": "code",
   "execution_count": 26,
   "metadata": {},
   "outputs": [],
   "source": [
    "dl = DataLoader_(dset, batch_size=256)"
   ]
  },
  {
   "cell_type": "code",
   "execution_count": 27,
   "metadata": {},
   "outputs": [
    {
     "data": {
      "text/plain": [
       "(torch.Size([256, 784]), torch.Size([256]))"
      ]
     },
     "execution_count": 27,
     "metadata": {},
     "output_type": "execute_result"
    }
   ],
   "source": [
    "x_b, y_b = next(dl)\n",
    "x_b.shape, y_b.shape"
   ]
  },
  {
   "cell_type": "markdown",
   "metadata": {},
   "source": [
    "Looks like our custom data loader is working fine so far!"
   ]
  },
  {
   "cell_type": "code",
   "execution_count": 28,
   "metadata": {},
   "outputs": [
    {
     "data": {
      "text/plain": [
       "(<matplotlib.image.AxesImage at 0x7f4dc1de24e0>, tensor(0))"
      ]
     },
     "execution_count": 28,
     "metadata": {},
     "output_type": "execute_result"
    },
    {
     "data": {
      "image/png": "[encoded data removed]",
      "text/plain": [
       "<Figure size 1080x576 with 1 Axes>"
      ]
     },
     "metadata": {
      "needs_background": "light"
     },
     "output_type": "display_data"
    }
   ],
   "source": [
    "plt.imshow(x_b[0].view(28, 28)), y_b[0]"
   ]
  },
  {
   "cell_type": "markdown",
   "metadata": {},
   "source": [
    "# Custom learner\n",
    "\n",
    "Let's build a learner that is initialized by passing:\n",
    " - dataloader with batch size\n",
    " - neural net\n",
    " - optimizer\n",
    " - loss function\n",
    " - metric\n",
    " \n",
    "Then trains and validates the model for a specified number of epochs in the following manner:\n",
    " - get batch of data from training data loader\n",
    " - perform forward pass through the network\n",
    " - calculate loss and it's gradients\n",
    " - update weights via backpropagation using optimizer\n",
    " - get batch from validation data loader\n",
    " - perform forward pass through the network\n",
    " - calculate and print performance metric"
   ]
  },
  {
   "cell_type": "code",
   "execution_count": 29,
   "metadata": {},
   "outputs": [],
   "source": [
    "class CustomLearner:\n",
    "    \n",
    "    def __init__(self, dsets, batch_size, model, optimizer, loss_fn, metric):\n",
    "        self.train_dset, self.valid_dset = dsets\n",
    "        self.batch_size = batch_size\n",
    "        self.model = model\n",
    "        self.optimizer = optimizer\n",
    "        self.loss_fn = loss_fn\n",
    "        self.metric = metric\n",
    "        \n",
    "    def train_model(self, num_epochs):\n",
    "        for epoch in range(num_epochs):\n",
    "            self.train_epoch()\n",
    "            print(self.validate_epoch())\n",
    "            \n",
    "    def train_epoch(self):\n",
    "        train_dl = DataLoader_(self.train_dset, self.batch_size)\n",
    "        for x_batch, y_batch in train_dl:\n",
    "            self.calculate_gradient(x_batch, y_batch)\n",
    "            self.optimizer.step()\n",
    "            self.optimizer.zero_grad()\n",
    "\n",
    "    def calculate_gradient(self, x_batch, y_batch):\n",
    "        predictions = self.model.forward(x_batch)\n",
    "        self.loss_fn(predictions, y_batch).backward()\n",
    "        \n",
    "    def validate_epoch(self):\n",
    "        valid_dl = DataLoader_(self.valid_dset, self.batch_size)\n",
    "        metrics = [self.metric(self.model.forward(x_batch), y_batch) \n",
    "                   for x_batch, y_batch in valid_dl]\n",
    "        return torch.stack(metrics).mean().item()"
   ]
  },
  {
   "cell_type": "markdown",
   "metadata": {},
   "source": [
    "Setting constants that will be used for later customizations. Number of epochs, learning rate, number of activations are set to achieve fast iteration time, in real life more time should be spent finding the right values."
   ]
  },
  {
   "cell_type": "code",
   "execution_count": 30,
   "metadata": {},
   "outputs": [],
   "source": [
    "BATCH_SIZE = 256\n",
    "LEARNING_RATE = .1\n",
    "NUM_CLASSES = 10\n",
    "NUM_EPOCHS = 20\n",
    "NUM_ACTIVATIONS = 30\n",
    "INPUT_SIZE = np.prod(ds.image_size)\n",
    "dsets = dset, valid_dset"
   ]
  },
  {
   "cell_type": "markdown",
   "metadata": {},
   "source": [
    "Set up simple neural net with two hidden linear layers and ReLU non-linearity inbetween. SGD optimizer is imported from Torch."
   ]
  },
  {
   "cell_type": "code",
   "execution_count": 31,
   "metadata": {},
   "outputs": [],
   "source": [
    "simple_net = nn.Sequential(\n",
    "    nn.Linear(INPUT_SIZE, NUM_ACTIVATIONS),\n",
    "    nn.ReLU(),\n",
    "    nn.Linear(NUM_ACTIVATIONS, NUM_CLASSES)\n",
    ")\n",
    "\n",
    "optimizer = SGD(simple_net.parameters(), lr=LEARNING_RATE)"
   ]
  },
  {
   "cell_type": "markdown",
   "metadata": {},
   "source": [
    "Could get close to 90% accuracy, if ran for more epochs, even with 100 samples of each category"
   ]
  },
  {
   "cell_type": "code",
   "execution_count": 32,
   "metadata": {},
   "outputs": [
    {
     "name": "stdout",
     "output_type": "stream",
     "text": [
      "0.2705078125\n",
      "0.37961339950561523\n",
      "0.38820043206214905\n",
      "0.39874058961868286\n",
      "0.4237270951271057\n",
      "0.515625\n",
      "0.6041218042373657\n",
      "0.6594154238700867\n",
      "0.7188173532485962\n",
      "0.7535358667373657\n",
      "0.7850888967514038\n",
      "0.7883216738700867\n",
      "0.8005118370056152\n",
      "0.8135439157485962\n",
      "0.8139142990112305\n",
      "0.8240840435028076\n",
      "0.8288658261299133\n",
      "0.8256330490112305\n",
      "0.8353986740112305\n",
      "0.8409886956214905\n"
     ]
    }
   ],
   "source": [
    "CustomLearner(dsets=dsets, model=simple_net, optimizer=optimizer, \n",
    "              loss_fn=nn.functional.cross_entropy, metric=accuracy, batch_size=BATCH_SIZE).train_model(NUM_EPOCHS)"
   ]
  },
  {
   "cell_type": "markdown",
   "metadata": {},
   "source": [
    "# Custom Neural Net\n",
    "\n",
    "Reconstruct same neural net used above from scratch (using matrix algebra instead of nn module)"
   ]
  },
  {
   "cell_type": "code",
   "execution_count": 33,
   "metadata": {},
   "outputs": [],
   "source": [
    "from torch.nn.parameter import Parameter  # Still need to import this to simplify weight optimization\n",
    "\n",
    "class SimpleNet(nn.Module):\n",
    "    \n",
    "    def __init__(self, input_size, num_activations, output_size):\n",
    "        super().__init__()\n",
    "        self.weights_1, self.bias_1 = (self.init_params((input_size, num_activations)), \n",
    "                                       self.init_params(num_activations))\n",
    "        self.weights_2, self.bias_2 = (self.init_params((num_activations, output_size)),\n",
    "                                       self.init_params(output_size))\n",
    "    \n",
    "    @staticmethod\n",
    "    def init_params(size):\n",
    "        return Parameter(torch.randn(size))\n",
    "    \n",
    "    @staticmethod\n",
    "    def linear(x_batch, weight, bias):\n",
    "        return x_batch.matmul(weight) + bias\n",
    "    \n",
    "    @staticmethod\n",
    "    def relu(x_batch):\n",
    "        return x_batch.max(tensor(.0))\n",
    "    \n",
    "    def forward(self, x_batch):\n",
    "        res = self.linear(x_batch, self.weights_1, self.bias_1)\n",
    "        res = self.relu(res)\n",
    "        return self.linear(res, self.weights_2, self.bias_2)"
   ]
  },
  {
   "cell_type": "markdown",
   "metadata": {},
   "source": [
    "For some reason results are not the same as with torch implementation but loss is improving, so let's leave it for now."
   ]
  },
  {
   "cell_type": "code",
   "execution_count": 34,
   "metadata": {},
   "outputs": [
    {
     "name": "stdout",
     "output_type": "stream",
     "text": [
      "0.2481479048728943\n",
      "0.30222925543785095\n",
      "0.3339506983757019\n",
      "0.3820379972457886\n",
      "0.4140961766242981\n",
      "0.4288456439971924\n",
      "0.45251885056495667\n",
      "0.4697939157485962\n",
      "0.4874057173728943\n",
      "0.5145474076271057\n",
      "0.5266702771186829\n",
      "0.5344827771186829\n",
      "0.5311826467514038\n",
      "0.5461341738700867\n",
      "0.553104817867279\n",
      "0.5487607717514038\n",
      "0.5586274266242981\n",
      "0.5698074102401733\n",
      "0.5704808831214905\n",
      "0.575835108757019\n"
     ]
    }
   ],
   "source": [
    "sn = SimpleNet(INPUT_SIZE, NUM_ACTIVATIONS, NUM_CLASSES)\n",
    "optimizer = SGD(sn.parameters(), lr=LEARNING_RATE)\n",
    "CustomLearner(dsets=dsets, model=sn, optimizer=optimizer, \n",
    "              loss_fn=nn.functional.cross_entropy, metric=accuracy, batch_size=BATCH_SIZE).train_model(NUM_EPOCHS)"
   ]
  },
  {
   "cell_type": "markdown",
   "metadata": {},
   "source": [
    "# Custom optimizer\n",
    "\n",
    "Now let's replace torch SGD with our own, that updates weights by multiplying their respective gradients by the learning rate and resets gradients afterwards for the next batch."
   ]
  },
  {
   "cell_type": "code",
   "execution_count": 35,
   "metadata": {},
   "outputs": [],
   "source": [
    "class CustomSGD:\n",
    "    \n",
    "    def __init__(self, params, learning_rate):\n",
    "        self.params = list(params)\n",
    "        self.learning_rate = learning_rate\n",
    "        \n",
    "    def step(self):\n",
    "        for p in self.params:\n",
    "            p.data -= p.grad.data * self.learning_rate\n",
    "            \n",
    "    def zero_grad(self):\n",
    "        for p in self.params:\n",
    "            p.grad = None"
   ]
  },
  {
   "cell_type": "markdown",
   "metadata": {},
   "source": [
    "Results look similar"
   ]
  },
  {
   "cell_type": "code",
   "execution_count": 36,
   "metadata": {},
   "outputs": [
    {
     "name": "stdout",
     "output_type": "stream",
     "text": [
      "0.18989089131355286\n",
      "0.2645474076271057\n",
      "0.32869747281074524\n",
      "0.37624597549438477\n",
      "0.4138941168785095\n",
      "0.4393520951271057\n",
      "0.46656113862991333\n",
      "0.47875136137008667\n",
      "0.4880791902542114\n",
      "0.5011449456214905\n",
      "0.5049164891242981\n",
      "0.5155239701271057\n",
      "0.5196322798728943\n",
      "0.5225619673728943\n",
      "0.5179822444915771\n",
      "0.5334051847457886\n",
      "0.5425310134887695\n",
      "0.5500741004943848\n",
      "0.5528690814971924\n",
      "0.5544517636299133\n"
     ]
    }
   ],
   "source": [
    "sn = SimpleNet(INPUT_SIZE, NUM_ACTIVATIONS, NUM_CLASSES)\n",
    "optimizer = CustomSGD(sn.parameters(), LEARNING_RATE)\n",
    "CustomLearner(dsets=dsets, model=sn, optimizer=optimizer, \n",
    "              loss_fn=nn.functional.cross_entropy, metric=accuracy, batch_size=BATCH_SIZE).train_model(NUM_EPOCHS)"
   ]
  },
  {
   "cell_type": "markdown",
   "metadata": {},
   "source": [
    "# Custom loss function\n",
    "\n",
    "Now let's replace torch's cross entropy loss. Which essentially applies log-softmax to each row of last activation layer output (recall this output has n_input * n_classes shape) and picks value that corresponds to target class index and takes the negative mean of them. Also note that softmax = exponentiated element of a row divided by the sum of all exponentiated row elements."
   ]
  },
  {
   "cell_type": "markdown",
   "metadata": {},
   "source": [
    "Let's take one batch and pass it through our already trained network to illustrate this"
   ]
  },
  {
   "cell_type": "code",
   "execution_count": 37,
   "metadata": {},
   "outputs": [],
   "source": [
    "x_b, y_b = next(dl)"
   ]
  },
  {
   "cell_type": "code",
   "execution_count": 38,
   "metadata": {},
   "outputs": [
    {
     "name": "stdout",
     "output_type": "stream",
     "text": [
      "torch.Size([256, 10])\n"
     ]
    },
    {
     "data": {
      "text/plain": [
       "tensor([[ -9.6009,  -2.2568,  -5.2367,  ...,   3.7184,  -5.2098,   3.2839],\n",
       "        [ -5.9776,   0.3611,  -0.2300,  ...,   2.1829,   2.4964,   1.5622],\n",
       "        [ -9.5683,  -4.8592,   0.0759,  ...,  -4.8130,   1.6519,  -2.8534],\n",
       "        ...,\n",
       "        [ -6.4912,  16.1188,   4.1472,  ...,   4.3423,  -6.6100,   5.7818],\n",
       "        [ -6.3775,   9.4231,   3.0040,  ...,   1.6132,  -4.2952,   1.6586],\n",
       "        [ -0.6388,  10.0356,   5.0243,  ...,   8.9645, -18.8030,   2.5508]],\n",
       "       grad_fn=<AddBackward0>)"
      ]
     },
     "execution_count": 38,
     "metadata": {},
     "output_type": "execute_result"
    }
   ],
   "source": [
    "preds = sn.forward(x_b)\n",
    "print(preds.shape)\n",
    "preds"
   ]
  },
  {
   "cell_type": "code",
   "execution_count": 39,
   "metadata": {},
   "outputs": [],
   "source": [
    "def _log_softmax(input, dim):\n",
    "    return input.exp().div(input.exp().sum(dim).unsqueeze(1)).log()"
   ]
  },
  {
   "cell_type": "code",
   "execution_count": 40,
   "metadata": {},
   "outputs": [],
   "source": [
    "def cross_entropy_loss(preds, target):\n",
    "    return -_log_softmax(preds, 1).gather(1, target.unsqueeze(1)).mean()"
   ]
  },
  {
   "cell_type": "markdown",
   "metadata": {},
   "source": [
    "Differences in log_softmax implementation are small, but for some reason using custom softmax does not update parameters in optimization process"
   ]
  },
  {
   "cell_type": "code",
   "execution_count": 41,
   "metadata": {},
   "outputs": [
    {
     "data": {
      "text/plain": [
       "(tensor(2.1358, grad_fn=<NegBackward>),\n",
       " tensor(2.1358, grad_fn=<NllLossBackward>))"
      ]
     },
     "execution_count": 41,
     "metadata": {},
     "output_type": "execute_result"
    }
   ],
   "source": [
    "cross_entropy_loss(preds, y_b), nn.functional.cross_entropy(preds, y_b)"
   ]
  },
  {
   "cell_type": "code",
   "execution_count": 42,
   "metadata": {},
   "outputs": [
    {
     "name": "stdout",
     "output_type": "stream",
     "text": [
      "0.09987877309322357\n",
      "0.09987877309322357\n",
      "0.09987877309322357\n",
      "0.09947467595338821\n",
      "0.09947467595338821\n",
      "0.09977774322032928\n",
      "0.0995756983757019\n",
      "0.09967672824859619\n",
      "0.10008081793785095\n",
      "0.10028286278247833\n",
      "0.10048491507768631\n",
      "0.09977774322032928\n",
      "0.1005859375\n",
      "0.10008081793785095\n",
      "0.10068695992231369\n",
      "0.0995756983757019\n",
      "0.09967672824859619\n",
      "0.09937365353107452\n",
      "0.10018184036016464\n",
      "0.09997979551553726\n"
     ]
    }
   ],
   "source": [
    "sn = SimpleNet(INPUT_SIZE, NUM_ACTIVATIONS, NUM_CLASSES)\n",
    "optimizer = CustomSGD(sn.parameters(), LEARNING_RATE)\n",
    "CustomLearner(dsets=dsets, model=sn, optimizer=optimizer, \n",
    "              loss_fn=cross_entropy_loss, metric=accuracy, batch_size=BATCH_SIZE).train_model(NUM_EPOCHS)"
   ]
  },
  {
   "cell_type": "markdown",
   "metadata": {},
   "source": [
    "But using torch log_softmax works fine"
   ]
  },
  {
   "cell_type": "code",
   "execution_count": 43,
   "metadata": {},
   "outputs": [],
   "source": [
    "def cross_entropy_loss(preds, target):\n",
    "    return -preds.log_softmax(1).gather(1, target.unsqueeze(1)).mean()"
   ]
  },
  {
   "cell_type": "code",
   "execution_count": 44,
   "metadata": {},
   "outputs": [
    {
     "name": "stdout",
     "output_type": "stream",
     "text": [
      "0.16544315218925476\n",
      "0.2676791548728943\n",
      "0.34223464131355286\n",
      "0.3937567472457886\n",
      "0.42261582612991333\n",
      "0.4590180516242981\n",
      "0.4806371331214905\n",
      "0.494140625\n",
      "0.5094962120056152\n",
      "0.5077788233757019\n",
      "0.5172750353813171\n",
      "0.535493016242981\n",
      "0.5441473722457886\n",
      "0.5463699102401733\n",
      "0.555327296257019\n",
      "0.5573814511299133\n",
      "0.562163233757019\n",
      "0.5645878314971924\n",
      "0.569672703742981\n",
      "0.5773168206214905\n"
     ]
    }
   ],
   "source": [
    "sn = SimpleNet(INPUT_SIZE, NUM_ACTIVATIONS, NUM_CLASSES)\n",
    "optimizer = CustomSGD(sn.parameters(), LEARNING_RATE)\n",
    "CustomLearner(dsets=dsets, model=sn, optimizer=optimizer, \n",
    "              loss_fn=cross_entropy_loss, metric=accuracy, batch_size=BATCH_SIZE).train_model(NUM_EPOCHS)"
   ]
  },
  {
   "cell_type": "markdown",
   "metadata": {},
   "source": [
    "# Custom metric\n",
    "\n",
    "Final and simplest piece of this exercise is getting multi-class accuracy. For each prediction row pick the index of the column that has the highest value, compare if it's equal to the target and take the mean of all predictions to get accuracy."
   ]
  },
  {
   "cell_type": "code",
   "execution_count": 45,
   "metadata": {},
   "outputs": [],
   "source": [
    "def custom_accuracy(preds, target):\n",
    "    return (preds.argmax(1).unsqueeze(1) == target.unsqueeze(1)).float().mean()"
   ]
  },
  {
   "cell_type": "code",
   "execution_count": 46,
   "metadata": {},
   "outputs": [
    {
     "name": "stdout",
     "output_type": "stream",
     "text": [
      "0.16419720649719238\n",
      "0.23895473778247833\n",
      "0.2821592092514038\n",
      "0.30627021193504333\n",
      "0.3289668560028076\n",
      "0.34718480706214905\n",
      "0.35779228806495667\n",
      "0.37570714950561523\n",
      "0.3868534564971924\n",
      "0.39109644293785095\n",
      "0.40079471468925476\n",
      "0.4024784564971924\n",
      "0.4102909564971924\n",
      "0.4180024266242981\n",
      "0.42042699456214905\n",
      "0.4383081793785095\n",
      "0.44554823637008667\n",
      "0.4532597064971924\n",
      "0.45140761137008667\n",
      "0.45942214131355286\n"
     ]
    }
   ],
   "source": [
    "sn = SimpleNet(INPUT_SIZE, NUM_ACTIVATIONS, NUM_CLASSES)\n",
    "optimizer = CustomSGD(sn.parameters(), LEARNING_RATE)\n",
    "CustomLearner(dsets=dsets, model=sn, optimizer=optimizer, \n",
    "              loss_fn=cross_entropy_loss, metric=custom_accuracy, batch_size=BATCH_SIZE).train_model(NUM_EPOCHS)"
   ]
  },
  {
   "cell_type": "markdown",
   "metadata": {},
   "source": [
    "# Conclusion\n",
    "\n",
    "Although there are some bits that didn't work 100% as expected, this has helped me to better understand what's happening behind the curtains of fastai and torch and more generally, the basics of how simple neural networks work. I urge everyone to check Jeremy Howard's fantastic lectures on https://www.fast.ai/"
   ]
  }
 ],
 "metadata": {
  "kernelspec": {
   "display_name": "Python 3",
   "language": "python",
   "name": "python3"
  },
  "language_info": {
   "codemirror_mode": {
    "name": "ipython",
    "version": 3
   },
   "file_extension": ".py",
   "mimetype": "text/x-python",
   "name": "python",
   "nbconvert_exporter": "python",
   "pygments_lexer": "ipython3",
   "version": "3.6.6"
  }
 },
 "nbformat": 4,
 "nbformat_minor": 4
}
