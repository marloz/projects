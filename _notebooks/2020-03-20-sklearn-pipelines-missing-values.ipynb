{
 "cells": [
  {
   "cell_type": "markdown",
   "metadata": {},
   "source": [
    "# Sklearn pipelines: missing values\n",
    "> Exploring missing value imputation techniques and how to combine them in a Sklearn pipeline.\n",
    "\n",
	"- toc: true \n",
    "- badges: true\n",
    "- comments: true\n",
    "- categories: [sklearn]"
    ]
  },
  {
   "cell_type": "markdown",
   "metadata": {},
   "source": [
    "## Load packages and data\n",
    "\n",
    "Instead of doing all the package imports in the beginning of the file, I'll simply load the basic packages first and then all the rest at the moment of usage."
   ]
  },
  {
   "cell_type": "code",
   "execution_count": 1,
   "metadata": {
    "_cell_guid": "b1076dfc-b9ad-4769-8c92-a6c4dae69d19",
    "_uuid": "8f2839f25d086af736a60e9eeb907d3b93b6e0e5"
   },
   "outputs": [],
   "source": [
    "import numpy as np\n",
    "import pandas as pd\n",
    "import matplotlib.pyplot as plt\n",
    "import pylab\n",
    "import seaborn as sns"
   ]
  },
  {
   "cell_type": "markdown",
   "metadata": {},
   "source": [
    "It's always a good idea to look at the data first"
   ]
  },
  {
   "cell_type": "code",
   "execution_count": 2,
   "metadata": {},
   "outputs": [
    {
     "data": {
      "text/html": [
       "<div>\n",
       "<style scoped>\n",
       "    .dataframe tbody tr th:only-of-type {\n",
       "        vertical-align: middle;\n",
       "    }\n",
       "\n",
       "    .dataframe tbody tr th {\n",
       "        vertical-align: top;\n",
       "    }\n",
       "\n",
       "    .dataframe thead th {\n",
       "        text-align: right;\n",
       "    }\n",
       "</style>\n",
       "<table border=\"1\" class=\"dataframe\">\n",
       "  <thead>\n",
       "    <tr style=\"text-align: right;\">\n",
       "      <th></th>\n",
       "      <th>Id</th>\n",
       "      <th>MSSubClass</th>\n",
       "      <th>MSZoning</th>\n",
       "      <th>LotFrontage</th>\n",
       "      <th>LotArea</th>\n",
       "      <th>Street</th>\n",
       "      <th>Alley</th>\n",
       "      <th>LotShape</th>\n",
       "      <th>LandContour</th>\n",
       "      <th>Utilities</th>\n",
       "      <th>...</th>\n",
       "      <th>PoolArea</th>\n",
       "      <th>PoolQC</th>\n",
       "      <th>Fence</th>\n",
       "      <th>MiscFeature</th>\n",
       "      <th>MiscVal</th>\n",
       "      <th>MoSold</th>\n",
       "      <th>YrSold</th>\n",
       "      <th>SaleType</th>\n",
       "      <th>SaleCondition</th>\n",
       "      <th>SalePrice</th>\n",
       "    </tr>\n",
       "  </thead>\n",
       "  <tbody>\n",
       "    <tr>\n",
       "      <td>0</td>\n",
       "      <td>1</td>\n",
       "      <td>60</td>\n",
       "      <td>RL</td>\n",
       "      <td>65.0</td>\n",
       "      <td>8450</td>\n",
       "      <td>Pave</td>\n",
       "      <td>NaN</td>\n",
       "      <td>Reg</td>\n",
       "      <td>Lvl</td>\n",
       "      <td>AllPub</td>\n",
       "      <td>...</td>\n",
       "      <td>0</td>\n",
       "      <td>NaN</td>\n",
       "      <td>NaN</td>\n",
       "      <td>NaN</td>\n",
       "      <td>0</td>\n",
       "      <td>2</td>\n",
       "      <td>2008</td>\n",
       "      <td>WD</td>\n",
       "      <td>Normal</td>\n",
       "      <td>208500</td>\n",
       "    </tr>\n",
       "    <tr>\n",
       "      <td>1</td>\n",
       "      <td>2</td>\n",
       "      <td>20</td>\n",
       "      <td>RL</td>\n",
       "      <td>80.0</td>\n",
       "      <td>9600</td>\n",
       "      <td>Pave</td>\n",
       "      <td>NaN</td>\n",
       "      <td>Reg</td>\n",
       "      <td>Lvl</td>\n",
       "      <td>AllPub</td>\n",
       "      <td>...</td>\n",
       "      <td>0</td>\n",
       "      <td>NaN</td>\n",
       "      <td>NaN</td>\n",
       "      <td>NaN</td>\n",
       "      <td>0</td>\n",
       "      <td>5</td>\n",
       "      <td>2007</td>\n",
       "      <td>WD</td>\n",
       "      <td>Normal</td>\n",
       "      <td>181500</td>\n",
       "    </tr>\n",
       "    <tr>\n",
       "      <td>2</td>\n",
       "      <td>3</td>\n",
       "      <td>60</td>\n",
       "      <td>RL</td>\n",
       "      <td>68.0</td>\n",
       "      <td>11250</td>\n",
       "      <td>Pave</td>\n",
       "      <td>NaN</td>\n",
       "      <td>IR1</td>\n",
       "      <td>Lvl</td>\n",
       "      <td>AllPub</td>\n",
       "      <td>...</td>\n",
       "      <td>0</td>\n",
       "      <td>NaN</td>\n",
       "      <td>NaN</td>\n",
       "      <td>NaN</td>\n",
       "      <td>0</td>\n",
       "      <td>9</td>\n",
       "      <td>2008</td>\n",
       "      <td>WD</td>\n",
       "      <td>Normal</td>\n",
       "      <td>223500</td>\n",
       "    </tr>\n",
       "    <tr>\n",
       "      <td>3</td>\n",
       "      <td>4</td>\n",
       "      <td>70</td>\n",
       "      <td>RL</td>\n",
       "      <td>60.0</td>\n",
       "      <td>9550</td>\n",
       "      <td>Pave</td>\n",
       "      <td>NaN</td>\n",
       "      <td>IR1</td>\n",
       "      <td>Lvl</td>\n",
       "      <td>AllPub</td>\n",
       "      <td>...</td>\n",
       "      <td>0</td>\n",
       "      <td>NaN</td>\n",
       "      <td>NaN</td>\n",
       "      <td>NaN</td>\n",
       "      <td>0</td>\n",
       "      <td>2</td>\n",
       "      <td>2006</td>\n",
       "      <td>WD</td>\n",
       "      <td>Abnorml</td>\n",
       "      <td>140000</td>\n",
       "    </tr>\n",
       "    <tr>\n",
       "      <td>4</td>\n",
       "      <td>5</td>\n",
       "      <td>60</td>\n",
       "      <td>RL</td>\n",
       "      <td>84.0</td>\n",
       "      <td>14260</td>\n",
       "      <td>Pave</td>\n",
       "      <td>NaN</td>\n",
       "      <td>IR1</td>\n",
       "      <td>Lvl</td>\n",
       "      <td>AllPub</td>\n",
       "      <td>...</td>\n",
       "      <td>0</td>\n",
       "      <td>NaN</td>\n",
       "      <td>NaN</td>\n",
       "      <td>NaN</td>\n",
       "      <td>0</td>\n",
       "      <td>12</td>\n",
       "      <td>2008</td>\n",
       "      <td>WD</td>\n",
       "      <td>Normal</td>\n",
       "      <td>250000</td>\n",
       "    </tr>\n",
       "  </tbody>\n",
       "</table>\n",
       "<p>5 rows × 81 columns</p>\n",
       "</div>"
      ],
      "text/plain": [
       "   Id  MSSubClass MSZoning  LotFrontage  LotArea Street Alley LotShape  \\\n",
       "0   1          60       RL         65.0     8450   Pave   NaN      Reg   \n",
       "1   2          20       RL         80.0     9600   Pave   NaN      Reg   \n",
       "2   3          60       RL         68.0    11250   Pave   NaN      IR1   \n",
       "3   4          70       RL         60.0     9550   Pave   NaN      IR1   \n",
       "4   5          60       RL         84.0    14260   Pave   NaN      IR1   \n",
       "\n",
       "  LandContour Utilities  ... PoolArea PoolQC Fence MiscFeature MiscVal MoSold  \\\n",
       "0         Lvl    AllPub  ...        0    NaN   NaN         NaN       0      2   \n",
       "1         Lvl    AllPub  ...        0    NaN   NaN         NaN       0      5   \n",
       "2         Lvl    AllPub  ...        0    NaN   NaN         NaN       0      9   \n",
       "3         Lvl    AllPub  ...        0    NaN   NaN         NaN       0      2   \n",
       "4         Lvl    AllPub  ...        0    NaN   NaN         NaN       0     12   \n",
       "\n",
       "  YrSold  SaleType  SaleCondition  SalePrice  \n",
       "0   2008        WD         Normal     208500  \n",
       "1   2007        WD         Normal     181500  \n",
       "2   2008        WD         Normal     223500  \n",
       "3   2006        WD        Abnorml     140000  \n",
       "4   2008        WD         Normal     250000  \n",
       "\n",
       "[5 rows x 81 columns]"
      ]
     },
     "execution_count": 2,
     "metadata": {},
     "output_type": "execute_result"
    }
   ],
   "source": [
    "df = pd.read_csv('/kaggle/input/house-prices-advanced-regression-techniques/train.csv')\n",
    "df.head()"
   ]
  },
  {
   "cell_type": "code",
   "execution_count": 3,
   "metadata": {},
   "outputs": [
    {
     "name": "stdout",
     "output_type": "stream",
     "text": [
      "(1460, 81)\n"
     ]
    },
    {
     "data": {
      "text/plain": [
       "Id                 int64\n",
       "MSSubClass         int64\n",
       "MSZoning          object\n",
       "LotFrontage      float64\n",
       "LotArea            int64\n",
       "                  ...   \n",
       "MoSold             int64\n",
       "YrSold             int64\n",
       "SaleType          object\n",
       "SaleCondition     object\n",
       "SalePrice          int64\n",
       "Length: 81, dtype: object"
      ]
     },
     "execution_count": 3,
     "metadata": {},
     "output_type": "execute_result"
    }
   ],
   "source": [
    "print(df.shape)\n",
    "df.dtypes"
   ]
  },
  {
   "cell_type": "code",
   "execution_count": 4,
   "metadata": {},
   "outputs": [
    {
     "data": {
      "text/html": [
       "<div>\n",
       "<style scoped>\n",
       "    .dataframe tbody tr th:only-of-type {\n",
       "        vertical-align: middle;\n",
       "    }\n",
       "\n",
       "    .dataframe tbody tr th {\n",
       "        vertical-align: top;\n",
       "    }\n",
       "\n",
       "    .dataframe thead th {\n",
       "        text-align: right;\n",
       "    }\n",
       "</style>\n",
       "<table border=\"1\" class=\"dataframe\">\n",
       "  <thead>\n",
       "    <tr style=\"text-align: right;\">\n",
       "      <th></th>\n",
       "      <th>Id</th>\n",
       "      <th>MSSubClass</th>\n",
       "      <th>LotFrontage</th>\n",
       "      <th>LotArea</th>\n",
       "      <th>OverallQual</th>\n",
       "      <th>OverallCond</th>\n",
       "      <th>YearBuilt</th>\n",
       "      <th>YearRemodAdd</th>\n",
       "      <th>MasVnrArea</th>\n",
       "      <th>BsmtFinSF1</th>\n",
       "      <th>...</th>\n",
       "      <th>WoodDeckSF</th>\n",
       "      <th>OpenPorchSF</th>\n",
       "      <th>EnclosedPorch</th>\n",
       "      <th>3SsnPorch</th>\n",
       "      <th>ScreenPorch</th>\n",
       "      <th>PoolArea</th>\n",
       "      <th>MiscVal</th>\n",
       "      <th>MoSold</th>\n",
       "      <th>YrSold</th>\n",
       "      <th>SalePrice</th>\n",
       "    </tr>\n",
       "  </thead>\n",
       "  <tbody>\n",
       "    <tr>\n",
       "      <td>count</td>\n",
       "      <td>1460.0</td>\n",
       "      <td>1460.0</td>\n",
       "      <td>1201.0</td>\n",
       "      <td>1460.0</td>\n",
       "      <td>1460.0</td>\n",
       "      <td>1460.0</td>\n",
       "      <td>1460.0</td>\n",
       "      <td>1460.0</td>\n",
       "      <td>1452.0</td>\n",
       "      <td>1460.0</td>\n",
       "      <td>...</td>\n",
       "      <td>1460.0</td>\n",
       "      <td>1460.0</td>\n",
       "      <td>1460.0</td>\n",
       "      <td>1460.0</td>\n",
       "      <td>1460.0</td>\n",
       "      <td>1460.0</td>\n",
       "      <td>1460.0</td>\n",
       "      <td>1460.0</td>\n",
       "      <td>1460.0</td>\n",
       "      <td>1460.0</td>\n",
       "    </tr>\n",
       "    <tr>\n",
       "      <td>mean</td>\n",
       "      <td>730.0</td>\n",
       "      <td>57.0</td>\n",
       "      <td>70.0</td>\n",
       "      <td>10517.0</td>\n",
       "      <td>6.0</td>\n",
       "      <td>6.0</td>\n",
       "      <td>1971.0</td>\n",
       "      <td>1985.0</td>\n",
       "      <td>104.0</td>\n",
       "      <td>444.0</td>\n",
       "      <td>...</td>\n",
       "      <td>94.0</td>\n",
       "      <td>47.0</td>\n",
       "      <td>22.0</td>\n",
       "      <td>3.0</td>\n",
       "      <td>15.0</td>\n",
       "      <td>3.0</td>\n",
       "      <td>43.0</td>\n",
       "      <td>6.0</td>\n",
       "      <td>2008.0</td>\n",
       "      <td>180921.0</td>\n",
       "    </tr>\n",
       "    <tr>\n",
       "      <td>std</td>\n",
       "      <td>422.0</td>\n",
       "      <td>42.0</td>\n",
       "      <td>24.0</td>\n",
       "      <td>9981.0</td>\n",
       "      <td>1.0</td>\n",
       "      <td>1.0</td>\n",
       "      <td>30.0</td>\n",
       "      <td>21.0</td>\n",
       "      <td>181.0</td>\n",
       "      <td>456.0</td>\n",
       "      <td>...</td>\n",
       "      <td>125.0</td>\n",
       "      <td>66.0</td>\n",
       "      <td>61.0</td>\n",
       "      <td>29.0</td>\n",
       "      <td>56.0</td>\n",
       "      <td>40.0</td>\n",
       "      <td>496.0</td>\n",
       "      <td>3.0</td>\n",
       "      <td>1.0</td>\n",
       "      <td>79443.0</td>\n",
       "    </tr>\n",
       "    <tr>\n",
       "      <td>min</td>\n",
       "      <td>1.0</td>\n",
       "      <td>20.0</td>\n",
       "      <td>21.0</td>\n",
       "      <td>1300.0</td>\n",
       "      <td>1.0</td>\n",
       "      <td>1.0</td>\n",
       "      <td>1872.0</td>\n",
       "      <td>1950.0</td>\n",
       "      <td>0.0</td>\n",
       "      <td>0.0</td>\n",
       "      <td>...</td>\n",
       "      <td>0.0</td>\n",
       "      <td>0.0</td>\n",
       "      <td>0.0</td>\n",
       "      <td>0.0</td>\n",
       "      <td>0.0</td>\n",
       "      <td>0.0</td>\n",
       "      <td>0.0</td>\n",
       "      <td>1.0</td>\n",
       "      <td>2006.0</td>\n",
       "      <td>34900.0</td>\n",
       "    </tr>\n",
       "    <tr>\n",
       "      <td>25%</td>\n",
       "      <td>366.0</td>\n",
       "      <td>20.0</td>\n",
       "      <td>59.0</td>\n",
       "      <td>7554.0</td>\n",
       "      <td>5.0</td>\n",
       "      <td>5.0</td>\n",
       "      <td>1954.0</td>\n",
       "      <td>1967.0</td>\n",
       "      <td>0.0</td>\n",
       "      <td>0.0</td>\n",
       "      <td>...</td>\n",
       "      <td>0.0</td>\n",
       "      <td>0.0</td>\n",
       "      <td>0.0</td>\n",
       "      <td>0.0</td>\n",
       "      <td>0.0</td>\n",
       "      <td>0.0</td>\n",
       "      <td>0.0</td>\n",
       "      <td>5.0</td>\n",
       "      <td>2007.0</td>\n",
       "      <td>129975.0</td>\n",
       "    </tr>\n",
       "    <tr>\n",
       "      <td>50%</td>\n",
       "      <td>730.0</td>\n",
       "      <td>50.0</td>\n",
       "      <td>69.0</td>\n",
       "      <td>9478.0</td>\n",
       "      <td>6.0</td>\n",
       "      <td>5.0</td>\n",
       "      <td>1973.0</td>\n",
       "      <td>1994.0</td>\n",
       "      <td>0.0</td>\n",
       "      <td>384.0</td>\n",
       "      <td>...</td>\n",
       "      <td>0.0</td>\n",
       "      <td>25.0</td>\n",
       "      <td>0.0</td>\n",
       "      <td>0.0</td>\n",
       "      <td>0.0</td>\n",
       "      <td>0.0</td>\n",
       "      <td>0.0</td>\n",
       "      <td>6.0</td>\n",
       "      <td>2008.0</td>\n",
       "      <td>163000.0</td>\n",
       "    </tr>\n",
       "    <tr>\n",
       "      <td>75%</td>\n",
       "      <td>1095.0</td>\n",
       "      <td>70.0</td>\n",
       "      <td>80.0</td>\n",
       "      <td>11602.0</td>\n",
       "      <td>7.0</td>\n",
       "      <td>6.0</td>\n",
       "      <td>2000.0</td>\n",
       "      <td>2004.0</td>\n",
       "      <td>166.0</td>\n",
       "      <td>712.0</td>\n",
       "      <td>...</td>\n",
       "      <td>168.0</td>\n",
       "      <td>68.0</td>\n",
       "      <td>0.0</td>\n",
       "      <td>0.0</td>\n",
       "      <td>0.0</td>\n",
       "      <td>0.0</td>\n",
       "      <td>0.0</td>\n",
       "      <td>8.0</td>\n",
       "      <td>2009.0</td>\n",
       "      <td>214000.0</td>\n",
       "    </tr>\n",
       "    <tr>\n",
       "      <td>max</td>\n",
       "      <td>1460.0</td>\n",
       "      <td>190.0</td>\n",
       "      <td>313.0</td>\n",
       "      <td>215245.0</td>\n",
       "      <td>10.0</td>\n",
       "      <td>9.0</td>\n",
       "      <td>2010.0</td>\n",
       "      <td>2010.0</td>\n",
       "      <td>1600.0</td>\n",
       "      <td>5644.0</td>\n",
       "      <td>...</td>\n",
       "      <td>857.0</td>\n",
       "      <td>547.0</td>\n",
       "      <td>552.0</td>\n",
       "      <td>508.0</td>\n",
       "      <td>480.0</td>\n",
       "      <td>738.0</td>\n",
       "      <td>15500.0</td>\n",
       "      <td>12.0</td>\n",
       "      <td>2010.0</td>\n",
       "      <td>755000.0</td>\n",
       "    </tr>\n",
       "  </tbody>\n",
       "</table>\n",
       "<p>8 rows × 38 columns</p>\n",
       "</div>"
      ],
      "text/plain": [
       "           Id  MSSubClass  LotFrontage   LotArea  OverallQual  OverallCond  \\\n",
       "count  1460.0      1460.0       1201.0    1460.0       1460.0       1460.0   \n",
       "mean    730.0        57.0         70.0   10517.0          6.0          6.0   \n",
       "std     422.0        42.0         24.0    9981.0          1.0          1.0   \n",
       "min       1.0        20.0         21.0    1300.0          1.0          1.0   \n",
       "25%     366.0        20.0         59.0    7554.0          5.0          5.0   \n",
       "50%     730.0        50.0         69.0    9478.0          6.0          5.0   \n",
       "75%    1095.0        70.0         80.0   11602.0          7.0          6.0   \n",
       "max    1460.0       190.0        313.0  215245.0         10.0          9.0   \n",
       "\n",
       "       YearBuilt  YearRemodAdd  MasVnrArea  BsmtFinSF1  ...  WoodDeckSF  \\\n",
       "count     1460.0        1460.0      1452.0      1460.0  ...      1460.0   \n",
       "mean      1971.0        1985.0       104.0       444.0  ...        94.0   \n",
       "std         30.0          21.0       181.0       456.0  ...       125.0   \n",
       "min       1872.0        1950.0         0.0         0.0  ...         0.0   \n",
       "25%       1954.0        1967.0         0.0         0.0  ...         0.0   \n",
       "50%       1973.0        1994.0         0.0       384.0  ...         0.0   \n",
       "75%       2000.0        2004.0       166.0       712.0  ...       168.0   \n",
       "max       2010.0        2010.0      1600.0      5644.0  ...       857.0   \n",
       "\n",
       "       OpenPorchSF  EnclosedPorch  3SsnPorch  ScreenPorch  PoolArea  MiscVal  \\\n",
       "count       1460.0         1460.0     1460.0       1460.0    1460.0   1460.0   \n",
       "mean          47.0           22.0        3.0         15.0       3.0     43.0   \n",
       "std           66.0           61.0       29.0         56.0      40.0    496.0   \n",
       "min            0.0            0.0        0.0          0.0       0.0      0.0   \n",
       "25%            0.0            0.0        0.0          0.0       0.0      0.0   \n",
       "50%           25.0            0.0        0.0          0.0       0.0      0.0   \n",
       "75%           68.0            0.0        0.0          0.0       0.0      0.0   \n",
       "max          547.0          552.0      508.0        480.0     738.0  15500.0   \n",
       "\n",
       "       MoSold  YrSold  SalePrice  \n",
       "count  1460.0  1460.0     1460.0  \n",
       "mean      6.0  2008.0   180921.0  \n",
       "std       3.0     1.0    79443.0  \n",
       "min       1.0  2006.0    34900.0  \n",
       "25%       5.0  2007.0   129975.0  \n",
       "50%       6.0  2008.0   163000.0  \n",
       "75%       8.0  2009.0   214000.0  \n",
       "max      12.0  2010.0   755000.0  \n",
       "\n",
       "[8 rows x 38 columns]"
      ]
     },
     "execution_count": 4,
     "metadata": {},
     "output_type": "execute_result"
    }
   ],
   "source": [
    "df.describe().round()"
   ]
  },
  {
   "cell_type": "markdown",
   "metadata": {},
   "source": [
    "It's quite small dataset with 1460 rows, but has a lot of features - both numeric and categorical.  The dependent variable is `SalePrice`, which we aim to predict.  Right from the initial exploration we can notice some features with missing values, let's vizualize them next."
   ]
  },
  {
   "cell_type": "markdown",
   "metadata": {},
   "source": [
    "## Vizualize missing values\n",
    "\n",
    "I will use a small utility plotting function, that could be reused in other projects as well."
   ]
  },
  {
   "cell_type": "code",
   "execution_count": 5,
   "metadata": {},
   "outputs": [],
   "source": [
    "def plot_missing_values(df):\n",
    "    \"\"\" For each column with missing values plot proportion that is missing.\"\"\"\n",
    "    data = [(col, df[col].isnull().sum() / len(df)) \n",
    "            for col in df.columns if df[col].isnull().sum() > 0]\n",
    "    col_names = ['column', 'percent_missing']\n",
    "    missing_df = pd.DataFrame(data, columns=col_names).sort_values('percent_missing')\n",
    "    pylab.rcParams['figure.figsize'] = (15, 8)\n",
    "    missing_df.plot(kind='barh', x='column', y='percent_missing'); \n",
    "    plt.title('Percent of missing values in colummns');"
   ]
  },
  {
   "cell_type": "code",
   "execution_count": 6,
   "metadata": {},
   "outputs": [
    {
     "data": {
      "image/png": "[encoded data removed]",
      "text/plain": [
       "<Figure size 1080x576 with 1 Axes>"
      ]
     },
     "metadata": {
      "needs_background": "light"
     },
     "output_type": "display_data"
    }
   ],
   "source": [
    "plot_missing_values(df)"
   ]
  },
  {
   "cell_type": "markdown",
   "metadata": {},
   "source": [
    "There definitely are features with missing values in this dataset, but they vary greatly in the level of missingness - from just a few to nearly all.  \n",
    "It could be that reasons for missingness are different - `PoolQC`, `GarageYrBlt`, `BsmntFinType` are probably missing because not all houses have pools, garages and basements. Whereas `LotFrontage` could be missing because of data quality.  In real life problems it is essential to figure out the reasons for missingness, but for the sake of this post let's just focus on the imputation techniques.  \n",
    "\n",
    "There are myriad of ways how to deal with missing data, for example:  \n",
    " * Removing rows with missing values;\n",
    " * Removing features with high proportion of missing values;\n",
    " * Replacing missing values with a constant value;\n",
    " * Replacing missing values with mean/median/mode (globally or grouped/clustered);\n",
    " * Imputing missing values using models.   \n",
    "\n",
    "In this post, I will explore the last 3 options, since the first 2 are quite trivial and, because it's a small dataset, we want to keep as much data as possible."
   ]
  },
  {
   "cell_type": "markdown",
   "metadata": {},
   "source": [
    "## Constant value imputation\n",
    "\n",
    "As a first step, let's try to replace missing values with some constants and establish a baseline. Since we have mixed datatypes, we first need to separate into categorical and numerical columns, for this I will write a custom selector transformer that will conveniently integrate into the rest of the pipeline and allow seamless preprocessing of the test set.  "
   ]
  },
  {
   "cell_type": "code",
   "execution_count": 7,
   "metadata": {},
   "outputs": [],
   "source": [
    "from sklearn.base import BaseEstimator, TransformerMixin\n",
    "\n",
    "class ColumnSelector(BaseEstimator, TransformerMixin):\n",
    "    \n",
    "    def __init__(self, dtype):\n",
    "        self.dtype = dtype\n",
    "    \n",
    "    def fit(self, X, y=None):\n",
    "        \"\"\" Get either categorical or numerical columns on fit.\n",
    "        Store as attribute for future reference\"\"\"\n",
    "        X = X if isinstance(X, pd.DataFrame) else pd.DataFrame(X)\n",
    "        if self.dtype == 'numerical':\n",
    "            self.cols = X.select_dtypes(exclude='O').columns.tolist()\n",
    "        elif self.dtype == 'categorical':\n",
    "            self.cols = X.select_dtypes(include='O').columns.tolist()\n",
    "        self.col_idx = [df.columns.get_loc(col) for col in self.cols]\n",
    "        return self\n",
    "\n",
    "    def transform(self, X):\n",
    "        \"\"\" Subset columns of chosen data type and return np.array\"\"\"\n",
    "        X = X.values if isinstance(X, pd.DataFrame) else X\n",
    "        return X[:, self.col_idx]"
   ]
  },
  {
   "cell_type": "markdown",
   "metadata": {},
   "source": [
    "Let's combine selector and imputer for numerical and categorical columns into single pipeline and check the results.  \n",
    "For imputation I will use Sklearn's SimpleImputer. This might seem as an overkill, as it might as well be achieved using simple `.fillna()` method from pandas, however, we are going to be working with pipelines and move towards more complicated methods later, where usefulness of these transformers will shine, just trust me :)"
   ]
  },
  {
   "cell_type": "code",
   "execution_count": 8,
   "metadata": {},
   "outputs": [],
   "source": [
    "from sklearn.pipeline import Pipeline, FeatureUnion\n",
    "from sklearn.impute import SimpleImputer\n",
    "\n",
    "num_pipe = Pipeline([\n",
    "    ('num_selector', ColumnSelector('numerical')),\n",
    "    ('num_imputer', SimpleImputer(strategy='constant', fill_value=0))\n",
    "])\n",
    "\n",
    "cat_pipe = Pipeline([\n",
    "    ('cat_selector', ColumnSelector('categorical')),\n",
    "    ('cat_imputer', SimpleImputer(strategy='constant', fill_value='None'))\n",
    "])\n",
    "\n",
    "preproc = FeatureUnion([\n",
    "    ('num_pipe', num_pipe),\n",
    "    ('cat_pipe', cat_pipe)\n",
    "])"
   ]
  },
  {
   "cell_type": "markdown",
   "metadata": {},
   "source": [
    "Let's check if the output has any missing values."
   ]
  },
  {
   "cell_type": "code",
   "execution_count": 9,
   "metadata": {},
   "outputs": [],
   "source": [
    "def check_missing(X):\n",
    "    print('Number of missing values after imputation: {}'.\n",
    "          format(pd.DataFrame(X).isnull().sum().sum()))"
   ]
  },
  {
   "cell_type": "code",
   "execution_count": 10,
   "metadata": {},
   "outputs": [
    {
     "name": "stdout",
     "output_type": "stream",
     "text": [
      "Number of missing values after imputation: 0\n"
     ]
    }
   ],
   "source": [
    "imputed_res = preproc.fit_transform(df)\n",
    "check_missing(imputed_res)"
   ]
  },
  {
   "cell_type": "markdown",
   "metadata": {},
   "source": [
    "As expected, no missing values after imputation.  \n",
    "Inspect plots for a chosen categorical and numeric variable with missing values to get a better intuition on what was done here."
   ]
  },
  {
   "cell_type": "code",
   "execution_count": 11,
   "metadata": {},
   "outputs": [],
   "source": [
    "def get_df_from_pipeline_res(pipeline_res, pipeline):\n",
    "    \"\"\" Get pandas dataframe from the results of fitted pipeline\"\"\"\n",
    "    num_cols = pipeline.get_params()['num_pipe']['num_selector'].cols\n",
    "    cat_cols = pipeline.get_params()['cat_pipe']['cat_selector'].cols\n",
    "    return pd.DataFrame(pipeline_res, columns=num_cols + cat_cols)"
   ]
  },
  {
   "cell_type": "code",
   "execution_count": 12,
   "metadata": {},
   "outputs": [
    {
     "data": {
      "image/png": "[encoded data removed]",
      "text/plain": [
       "<Figure size 1080x576 with 2 Axes>"
      ]
     },
     "metadata": {
      "needs_background": "light"
     },
     "output_type": "display_data"
    }
   ],
   "source": [
    "_ = get_df_from_pipeline_res(imputed_res, preproc)\n",
    "f, ax = plt.subplots(1, 2)\n",
    "ax = ax.flatten()\n",
    "_.PoolQC.value_counts().plot(kind='bar', ax=ax[0]);\n",
    "ax[0].title.set_text('PoolQC category count after imputation');\n",
    "_.LotFrontage.plot(kind='kde', ax=ax[1]);\n",
    "ax[1].title.set_text('LotFrontage density after imputation');"
   ]
  },
  {
   "cell_type": "markdown",
   "metadata": {},
   "source": [
    "As expected, SimpleImputer did it's job and added 'None' category to categorical variables and 0 value for numeric missing values."
   ]
  },
  {
   "cell_type": "markdown",
   "metadata": {},
   "source": [
    "## Establish baseline result\n",
    "\n",
    "As always in machine learning, it's best to make minimum required number of assumptions and test, if decisions actually improve the predictions.  Similarly in this case, because using constant imputation is the simplest approach, let's get the model score, consider it a benchmark and then try out more sophisticated techniques to improve upon it.  \n",
    "\n",
    "For this I will use default RandomForestRegressor with 100 trees. First separate X and y."
   ]
  },
  {
   "cell_type": "code",
   "execution_count": 13,
   "metadata": {},
   "outputs": [],
   "source": [
    "y = df.SalePrice\n",
    "X = df.drop('SalePrice', axis=1)"
   ]
  },
  {
   "cell_type": "markdown",
   "metadata": {},
   "source": [
    "Since the model expects all the features to be numerical, we need to deal with the categorical columns, let's add OneHotEncoder to the pipeline."
   ]
  },
  {
   "cell_type": "code",
   "execution_count": 14,
   "metadata": {},
   "outputs": [],
   "source": [
    "from sklearn.preprocessing import OneHotEncoder\n",
    "\n",
    "preproc.get_params()['cat_pipe'].steps.append([\n",
    "    'ohe', OneHotEncoder(sparse=False, handle_unknown='ignore')\n",
    "])"
   ]
  },
  {
   "cell_type": "markdown",
   "metadata": {},
   "source": [
    "Set an instance of simple Random Forest model."
   ]
  },
  {
   "cell_type": "code",
   "execution_count": 15,
   "metadata": {},
   "outputs": [],
   "source": [
    "from sklearn.ensemble import RandomForestRegressor\n",
    "\n",
    "model = RandomForestRegressor(n_estimators=100, random_state=42,\n",
    "                              oob_score=True, n_jobs=-1)"
   ]
  },
  {
   "cell_type": "markdown",
   "metadata": {},
   "source": [
    "Set up the pipeline combining preporcessing and modelling steps."
   ]
  },
  {
   "cell_type": "code",
   "execution_count": 16,
   "metadata": {},
   "outputs": [],
   "source": [
    "estimator = Pipeline([\n",
    "    ('preproc', preproc),\n",
    "    ('model', model)\n",
    "])"
   ]
  },
  {
   "cell_type": "markdown",
   "metadata": {},
   "source": [
    "Create RMSLE scorer as target for optimization."
   ]
  },
  {
   "cell_type": "code",
   "execution_count": 17,
   "metadata": {},
   "outputs": [],
   "source": [
    "from sklearn.metrics import make_scorer, mean_squared_log_error\n",
    "\n",
    "def rmsle(y, y_pred):\n",
    "    return -np.sqrt(mean_squared_log_error(y, y_pred))\n",
    "\n",
    "scoring = make_scorer(rmsle, greater_is_better=False)"
   ]
  },
  {
   "cell_type": "markdown",
   "metadata": {},
   "source": [
    "Set up grid with 5-fold cross-validation."
   ]
  },
  {
   "cell_type": "code",
   "execution_count": 18,
   "metadata": {},
   "outputs": [],
   "source": [
    "from sklearn.model_selection import GridSearchCV\n",
    "\n",
    "param_grid = {}\n",
    "grid = GridSearchCV(estimator, param_grid, scoring=scoring, n_jobs=-1, cv=5)\n",
    "grid.fit(X, y);"
   ]
  },
  {
   "cell_type": "markdown",
   "metadata": {},
   "source": [
    "Get the benchmark result for RMSE and it's standard deviation from cross validation results."
   ]
  },
  {
   "cell_type": "code",
   "execution_count": 19,
   "metadata": {},
   "outputs": [
    {
     "data": {
      "text/plain": [
       "(array([0.14783474]), array([0.00659506]))"
      ]
     },
     "execution_count": 19,
     "metadata": {},
     "output_type": "execute_result"
    }
   ],
   "source": [
    "benchmark = grid.cv_results_['mean_test_score'], grid.cv_results_['std_test_score']\n",
    "benchmark"
   ]
  },
  {
   "cell_type": "markdown",
   "metadata": {},
   "source": [
    "Our baseline model has a cross-validated RMSLE around .15, which for totally plain vanilla model is fairly ok.  \n",
    "Let's see if we can beat this just by adding more sophisticated missing value imputation techniques."
   ]
  },
  {
   "cell_type": "markdown",
   "metadata": {},
   "source": [
    "## Median / Most frequent replacement"
   ]
  },
  {
   "cell_type": "markdown",
   "metadata": {},
   "source": [
    "Next, let's try `median` and `most_frequent` imputation strategies. It means that the imputer will consider each feature separately and estimate median for numerical columns and most frequent value for categorical columns. It should be stressed that both must be estimated on **the training set**, otherwise it will cause data leakage and poor generalization. Luckily, pipelines ensure this, even when performing cross validation.  \n",
    "\n",
    "Also be sure to include the indicator for missing values, as it adds some information for the algorithm in cases, where the chosen imputation strategy was not entirely appropriate. For example, `PoolQC` has the most frequent value `Gd`, which will replaces NA values with strategy set to `most_frequent`, but that is obviously wrong, as most houses don't have a pool! Hence having an indicator partially offsets this introduced noise."
   ]
  },
  {
   "cell_type": "code",
   "execution_count": 20,
   "metadata": {},
   "outputs": [
    {
     "data": {
      "text/plain": [
       "{'memory': None, 'steps': [('preproc', FeatureUnion(n_jobs=None,\n",
       "                transformer_list=[('num_pipe',\n",
       "                                   Pipeline(memory=None,\n",
       "                                            steps=[('num_selector',\n",
       "                                                    ColumnSelector(dtype='numerical')),\n",
       "                                                   ('num_imputer',\n",
       "                                                    SimpleImputer(add_indicator=False,\n",
       "                                                                  copy=True,\n",
       "                                                                  fill_value=0,\n",
       "                                                                  missing_values=nan,\n",
       "                                                                  strategy='constant',\n",
       "                                                                  verbose=0))],\n",
       "                                            verbose=False)),\n",
       "                                  ('cat_pipe',\n",
       "                                   Pipeline(memory=None,\n",
       "                                            steps=[('cat_selector',\n",
       "                                                    ColumnSelector(dtype...orical')),\n",
       "                                                   ('cat_imputer',\n",
       "                                                    SimpleImputer(add_indicator=False,\n",
       "                                                                  copy=True,\n",
       "                                                                  fill_value='None',\n",
       "                                                                  missing_values=nan,\n",
       "                                                                  strategy='constant',\n",
       "                                                                  verbose=0)),\n",
       "                                                   ['ohe',\n",
       "                                                    OneHotEncoder(categorical_features=None,\n",
       "                                                                  categories=None,\n",
       "                                                                  drop=None,\n",
       "                                                                  dtype=<class 'numpy.float64'>,\n",
       "                                                                  handle_unknown='ignore',\n",
       "                                                                  n_values=None,\n",
       "                                                                  sparse=False)]],\n",
       "                                            verbose=False))],\n",
       "                transformer_weights=None, verbose=False)),\n",
       "  ('model',\n",
       "   RandomForestRegressor(bootstrap=True, criterion='mse', max_depth=None,\n",
       "                         max_features='auto', max_leaf_nodes=None,\n",
       "                         min_impurity_decrease=0.0, min_impurity_split=None,\n",
       "                         min_samples_leaf=1, min_samples_split=2,\n",
       "                         min_weight_fraction_leaf=0.0, n_estimators=100, n_jobs=-1,\n",
       "                         oob_score=True, random_state=42, verbose=0,\n",
       "                         warm_start=False))], 'verbose': False, 'preproc': FeatureUnion(n_jobs=None,\n",
       "              transformer_list=[('num_pipe',\n",
       "                                 Pipeline(memory=None,\n",
       "                                          steps=[('num_selector',\n",
       "                                                  ColumnSelector(dtype='numerical')),\n",
       "                                                 ('num_imputer',\n",
       "                                                  SimpleImputer(add_indicator=False,\n",
       "                                                                copy=True,\n",
       "                                                                fill_value=0,\n",
       "                                                                missing_values=nan,\n",
       "                                                                strategy='constant',\n",
       "                                                                verbose=0))],\n",
       "                                          verbose=False)),\n",
       "                                ('cat_pipe',\n",
       "                                 Pipeline(memory=None,\n",
       "                                          steps=[('cat_selector',\n",
       "                                                  ColumnSelector(dtype...orical')),\n",
       "                                                 ('cat_imputer',\n",
       "                                                  SimpleImputer(add_indicator=False,\n",
       "                                                                copy=True,\n",
       "                                                                fill_value='None',\n",
       "                                                                missing_values=nan,\n",
       "                                                                strategy='constant',\n",
       "                                                                verbose=0)),\n",
       "                                                 ['ohe',\n",
       "                                                  OneHotEncoder(categorical_features=None,\n",
       "                                                                categories=None,\n",
       "                                                                drop=None,\n",
       "                                                                dtype=<class 'numpy.float64'>,\n",
       "                                                                handle_unknown='ignore',\n",
       "                                                                n_values=None,\n",
       "                                                                sparse=False)]],\n",
       "                                          verbose=False))],\n",
       "              transformer_weights=None, verbose=False), 'model': RandomForestRegressor(bootstrap=True, criterion='mse', max_depth=None,\n",
       "                       max_features='auto', max_leaf_nodes=None,\n",
       "                       min_impurity_decrease=0.0, min_impurity_split=None,\n",
       "                       min_samples_leaf=1, min_samples_split=2,\n",
       "                       min_weight_fraction_leaf=0.0, n_estimators=100, n_jobs=-1,\n",
       "                       oob_score=True, random_state=42, verbose=0,\n",
       "                       warm_start=False), 'preproc__n_jobs': None, 'preproc__transformer_list': [('num_pipe',\n",
       "   Pipeline(memory=None,\n",
       "            steps=[('num_selector', ColumnSelector(dtype='numerical')),\n",
       "                   ('num_imputer',\n",
       "                    SimpleImputer(add_indicator=False, copy=True, fill_value=0,\n",
       "                                  missing_values=nan, strategy='constant',\n",
       "                                  verbose=0))],\n",
       "            verbose=False)),\n",
       "  ('cat_pipe', Pipeline(memory=None,\n",
       "            steps=[('cat_selector', ColumnSelector(dtype='categorical')),\n",
       "                   ('cat_imputer',\n",
       "                    SimpleImputer(add_indicator=False, copy=True,\n",
       "                                  fill_value='None', missing_values=nan,\n",
       "                                  strategy='constant', verbose=0)),\n",
       "                   ['ohe',\n",
       "                    OneHotEncoder(categorical_features=None, categories=None,\n",
       "                                  drop=None, dtype=<class 'numpy.float64'>,\n",
       "                                  handle_unknown='ignore', n_values=None,\n",
       "                                  sparse=False)]],\n",
       "            verbose=False))], 'preproc__transformer_weights': None, 'preproc__verbose': False, 'preproc__num_pipe': Pipeline(memory=None,\n",
       "          steps=[('num_selector', ColumnSelector(dtype='numerical')),\n",
       "                 ('num_imputer',\n",
       "                  SimpleImputer(add_indicator=False, copy=True, fill_value=0,\n",
       "                                missing_values=nan, strategy='constant',\n",
       "                                verbose=0))],\n",
       "          verbose=False), 'preproc__cat_pipe': Pipeline(memory=None,\n",
       "          steps=[('cat_selector', ColumnSelector(dtype='categorical')),\n",
       "                 ('cat_imputer',\n",
       "                  SimpleImputer(add_indicator=False, copy=True,\n",
       "                                fill_value='None', missing_values=nan,\n",
       "                                strategy='constant', verbose=0)),\n",
       "                 ['ohe',\n",
       "                  OneHotEncoder(categorical_features=None, categories=None,\n",
       "                                drop=None, dtype=<class 'numpy.float64'>,\n",
       "                                handle_unknown='ignore', n_values=None,\n",
       "                                sparse=False)]],\n",
       "          verbose=False), 'preproc__num_pipe__memory': None, 'preproc__num_pipe__steps': [('num_selector',\n",
       "   ColumnSelector(dtype='numerical')),\n",
       "  ('num_imputer',\n",
       "   SimpleImputer(add_indicator=False, copy=True, fill_value=0, missing_values=nan,\n",
       "                 strategy='constant', verbose=0))], 'preproc__num_pipe__verbose': False, 'preproc__num_pipe__num_selector': ColumnSelector(dtype='numerical'), 'preproc__num_pipe__num_imputer': SimpleImputer(add_indicator=False, copy=True, fill_value=0, missing_values=nan,\n",
       "               strategy='constant', verbose=0), 'preproc__num_pipe__num_selector__dtype': 'numerical', 'preproc__num_pipe__num_imputer__add_indicator': False, 'preproc__num_pipe__num_imputer__copy': True, 'preproc__num_pipe__num_imputer__fill_value': 0, 'preproc__num_pipe__num_imputer__missing_values': nan, 'preproc__num_pipe__num_imputer__strategy': 'constant', 'preproc__num_pipe__num_imputer__verbose': 0, 'preproc__cat_pipe__memory': None, 'preproc__cat_pipe__steps': [('cat_selector',\n",
       "   ColumnSelector(dtype='categorical')),\n",
       "  ('cat_imputer',\n",
       "   SimpleImputer(add_indicator=False, copy=True, fill_value='None',\n",
       "                 missing_values=nan, strategy='constant', verbose=0)),\n",
       "  ['ohe', OneHotEncoder(categorical_features=None, categories=None, drop=None,\n",
       "                 dtype=<class 'numpy.float64'>, handle_unknown='ignore',\n",
       "                 n_values=None, sparse=False)]], 'preproc__cat_pipe__verbose': False, 'preproc__cat_pipe__cat_selector': ColumnSelector(dtype='categorical'), 'preproc__cat_pipe__cat_imputer': SimpleImputer(add_indicator=False, copy=True, fill_value='None',\n",
       "               missing_values=nan, strategy='constant', verbose=0), 'preproc__cat_pipe__ohe': OneHotEncoder(categorical_features=None, categories=None, drop=None,\n",
       "               dtype=<class 'numpy.float64'>, handle_unknown='ignore',\n",
       "               n_values=None, sparse=False), 'preproc__cat_pipe__cat_selector__dtype': 'categorical', 'preproc__cat_pipe__cat_imputer__add_indicator': False, 'preproc__cat_pipe__cat_imputer__copy': True, 'preproc__cat_pipe__cat_imputer__fill_value': 'None', 'preproc__cat_pipe__cat_imputer__missing_values': nan, 'preproc__cat_pipe__cat_imputer__strategy': 'constant', 'preproc__cat_pipe__cat_imputer__verbose': 0, 'preproc__cat_pipe__ohe__categorical_features': None, 'preproc__cat_pipe__ohe__categories': None, 'preproc__cat_pipe__ohe__drop': None, 'preproc__cat_pipe__ohe__dtype': numpy.float64, 'preproc__cat_pipe__ohe__handle_unknown': 'ignore', 'preproc__cat_pipe__ohe__n_values': None, 'preproc__cat_pipe__ohe__sparse': False, 'model__bootstrap': True, 'model__criterion': 'mse', 'model__max_depth': None, 'model__max_features': 'auto', 'model__max_leaf_nodes': None, 'model__min_impurity_decrease': 0.0, 'model__min_impurity_split': None, 'model__min_samples_leaf': 1, 'model__min_samples_split': 2, 'model__min_weight_fraction_leaf': 0.0, 'model__n_estimators': 100, 'model__n_jobs': -1, 'model__oob_score': True, 'model__random_state': 42, 'model__verbose': 0, 'model__warm_start': False}"
      ]
     },
     "execution_count": 20,
     "metadata": {},
     "output_type": "execute_result"
    }
   ],
   "source": [
    "estimator.get_params()"
   ]
  },
  {
   "cell_type": "code",
   "execution_count": 21,
   "metadata": {},
   "outputs": [
    {
     "data": {
      "text/plain": [
       "(array([0.14654323]), array([0.00808575]))"
      ]
     },
     "execution_count": 21,
     "metadata": {},
     "output_type": "execute_result"
    }
   ],
   "source": [
    "grid.param_grid =  param_grid = {\n",
    "    'preproc__num_pipe__num_imputer__strategy': ['median'],\n",
    "    'preproc__num_pipe__num_imputer__add_indicator': [True],\n",
    "    'preproc__cat_pipe__cat_imputer__strategy': ['most_frequent'],\n",
    "    'preproc__cat_pipe__cat_imputer__add_indicator': [True],\n",
    "}\n",
    "grid.fit(X, y)\n",
    "grid.cv_results_['mean_test_score'], grid.cv_results_['std_test_score']"
   ]
  },
  {
   "cell_type": "markdown",
   "metadata": {},
   "source": [
    "Score improved very marginally. In real life scenarios we would like to inspect further, for which features `most_frequent` and `median` imputation is more appropriate than just simply setting to `None` and zero.  \n",
    "Let's illustrate this for two variables already discussed before to get a better feel for what's happening under the hood."
   ]
  },
  {
   "cell_type": "code",
   "execution_count": 22,
   "metadata": {},
   "outputs": [
    {
     "data": {
      "text/html": [
       "<div>\n",
       "<style scoped>\n",
       "    .dataframe tbody tr th:only-of-type {\n",
       "        vertical-align: middle;\n",
       "    }\n",
       "\n",
       "    .dataframe tbody tr th {\n",
       "        vertical-align: top;\n",
       "    }\n",
       "\n",
       "    .dataframe thead th {\n",
       "        text-align: right;\n",
       "    }\n",
       "</style>\n",
       "<table border=\"1\" class=\"dataframe\">\n",
       "  <thead>\n",
       "    <tr style=\"text-align: right;\">\n",
       "      <th></th>\n",
       "      <th>lot_frontage_imputed</th>\n",
       "      <th>lot_frontage_zero_fill</th>\n",
       "      <th>pool_qc_imputed</th>\n",
       "      <th>pool_qc_const_fill</th>\n",
       "    </tr>\n",
       "  </thead>\n",
       "  <tbody>\n",
       "    <tr>\n",
       "      <td>0</td>\n",
       "      <td>65</td>\n",
       "      <td>65</td>\n",
       "      <td>Gd</td>\n",
       "      <td>None</td>\n",
       "    </tr>\n",
       "    <tr>\n",
       "      <td>1</td>\n",
       "      <td>80</td>\n",
       "      <td>80</td>\n",
       "      <td>Gd</td>\n",
       "      <td>None</td>\n",
       "    </tr>\n",
       "    <tr>\n",
       "      <td>2</td>\n",
       "      <td>68</td>\n",
       "      <td>68</td>\n",
       "      <td>Gd</td>\n",
       "      <td>None</td>\n",
       "    </tr>\n",
       "    <tr>\n",
       "      <td>3</td>\n",
       "      <td>60</td>\n",
       "      <td>60</td>\n",
       "      <td>Gd</td>\n",
       "      <td>None</td>\n",
       "    </tr>\n",
       "    <tr>\n",
       "      <td>4</td>\n",
       "      <td>84</td>\n",
       "      <td>84</td>\n",
       "      <td>Gd</td>\n",
       "      <td>None</td>\n",
       "    </tr>\n",
       "  </tbody>\n",
       "</table>\n",
       "</div>"
      ],
      "text/plain": [
       "  lot_frontage_imputed lot_frontage_zero_fill pool_qc_imputed  \\\n",
       "0                   65                     65              Gd   \n",
       "1                   80                     80              Gd   \n",
       "2                   68                     68              Gd   \n",
       "3                   60                     60              Gd   \n",
       "4                   84                     84              Gd   \n",
       "\n",
       "  pool_qc_const_fill  \n",
       "0               None  \n",
       "1               None  \n",
       "2               None  \n",
       "3               None  \n",
       "4               None  "
      ]
     },
     "execution_count": 22,
     "metadata": {},
     "output_type": "execute_result"
    }
   ],
   "source": [
    "# Prepare data for plotting, checking same 2 variables as before\n",
    "tmp_preproc = dict(dict(grid.best_estimator_.get_params()['steps'])['preproc'].transformer_list)\n",
    "lot_frontage_imputed = tmp_preproc['num_pipe']['num_imputer'].fit_transform(X[['LotFrontage']])[:, 0]\n",
    "pool_qc_imputed = tmp_preproc['cat_pipe']['cat_imputer'].fit_transform(X[['PoolQC']])[:, 0]\n",
    "\n",
    "res = np.vstack((lot_frontage_imputed, X['LotFrontage'].fillna(0), pool_qc_imputed, X['PoolQC'].fillna('None'))).T\n",
    "cols = ['lot_frontage_imputed', 'lot_frontage_zero_fill', 'pool_qc_imputed', 'pool_qc_const_fill']\n",
    "_ = pd.DataFrame(res, columns=cols)\n",
    "_.head()"
   ]
  },
  {
   "cell_type": "code",
   "execution_count": 23,
   "metadata": {},
   "outputs": [
    {
     "data": {
      "image/png": "[encoded data removed]",
      "text/plain": [
       "<Figure size 1080x576 with 2 Axes>"
      ]
     },
     "metadata": {
      "needs_background": "light"
     },
     "output_type": "display_data"
    }
   ],
   "source": [
    "# Plot distributions for both variables after both methods\n",
    "fig, ax = plt.subplots(1, 2)\n",
    "ax = ax.flatten()\n",
    "\n",
    "_.lot_frontage_imputed.plot(kind='kde', ax=ax[0])\n",
    "_.lot_frontage_zero_fill.plot(kind='kde', ax=ax[0])\n",
    "ax[0].legend(labels=['median imputation','zero fill'])\n",
    "ax[0].set_title('LotFrontage distributions after different imputation methods')\n",
    "\n",
    "ax[1] = sns.countplot(data=pd.melt(_[['pool_qc_imputed', 'pool_qc_const_fill']]), x='value', hue='variable')\n",
    "ax[1].legend(labels=['most frequent imputation','constant fill'])\n",
    "ax[1].set_title('PoolQC distributions after different imputation methods');"
   ]
  },
  {
   "cell_type": "markdown",
   "metadata": {},
   "source": [
    "If LotFrontage is truly missing and each house has it, then median imputation looks much better than zero fill.  \n",
    "However, for PoolQC most frequent is not a valid method as it fills with `Gd` quality as default, in cases where actually there's no pool, as argued above."
   ]
  },
  {
   "cell_type": "markdown",
   "metadata": {},
   "source": [
    "## Iterative imputation of numerical features\n",
    "\n",
    "Next we're going to use IterativeImputer, which is still in Sklearn's experimental stage: https://scikit-learn.org/stable/modules/generated/sklearn.impute.IterativeImputer.html  \n",
    "It's using iterative multivariate regression to impute missing values.  \n",
    "\n",
    "We'll built a custom transfomer that performs the whole imputation process in the following sequence:\n",
    "* Create mask for values to be iteratively imputed (in cases where > 50% values are missing, use constant fill).\n",
    "* Replace all missing values with constants (`None` for categoricals and zeroes for numericals).\n",
    "* Apply ordinal encoder to numericalize categorical values, store encoded values.\n",
    "* Use previously created mask to fill back `NaN` values before iterative imputation.\n",
    "* Apply iterative imputer using `KNeighborsRegressor` as estimator.\n",
    "* Convert back from imputed numerical values to categorical values, by inverting fitted ordinal encoder.\n",
    "\n",
    "Phew! This sounds quite complicated, let's see if it improves the result."
   ]
  },
  {
   "cell_type": "code",
   "execution_count": 24,
   "metadata": {},
   "outputs": [],
   "source": [
    "from sklearn.experimental import enable_iterative_imputer\n",
    "from sklearn.impute import IterativeImputer\n",
    "from sklearn.neighbors import KNeighborsRegressor\n",
    "from sklearn.preprocessing import OrdinalEncoder\n",
    "\n",
    "class CustomImputer(BaseEstimator, TransformerMixin):\n",
    "    \n",
    "    def __init__(self, n_neighbors=5, weights='uniform', algorithm='ball_tree'):\n",
    "        self.n_neighbors=n_neighbors\n",
    "        self.weights=weights\n",
    "        self.algorithm=algorithm\n",
    "    \n",
    "    def fit(self, X, y=None):\n",
    "        self.get_column_metadata(X)\n",
    "        return self\n",
    "    \n",
    "    def get_column_metadata(self, X):\n",
    "        \"\"\" Fit column selector, get names and indices for categorical and numerical columns.\"\"\"\n",
    "        self.cat_cols = ColumnSelector('categorical').fit(X).cols\n",
    "        self.num_cols = ColumnSelector('numerical').fit(X).cols\n",
    "    \n",
    "    def transform(self, X):\n",
    "        \"\"\" Takes in X dataframe of unprocessed features and returns\n",
    "        dataframe without missing values, either imputed using MICE\n",
    "        method or constant imputation, depending on proportion of missing values\n",
    "        in a column.\"\"\"\n",
    "        X = X.copy()\n",
    "        impute_mask = self.get_impute_mask(X)\n",
    "        X_no_nan = self.replace_nan_const(X)\n",
    "        X_cat_numericalized = self.apply_ordinal_encoder(X_no_nan[self.cat_cols])\n",
    "        X_numericalized = np.hstack((X_cat_numericalized, X_no_nan[self.num_cols]))\n",
    "        X_fill_back_nan = self.fill_back_nan(X_numericalized, impute_mask)\n",
    "        X_imputed = self.apply_imputer(X_fill_back_nan)\n",
    "        return pd.DataFrame(self.invert_cat_encoder(X_imputed),\n",
    "                            columns=self.cat_cols + self.num_cols)\n",
    "    \n",
    "    def get_impute_mask(self, X):\n",
    "        \"\"\" Get boolean mask marking value locations that need to be iteratively imputed.\n",
    "        Only impute those columns, where proportion of missing values is <50%.\n",
    "        Otherwise leave constant imputation.\"\"\"\n",
    "        cols_most_values_missing = [col for col in X.columns\n",
    "                                    if X[col].isnull().sum() / X.shape[0] > .5]\n",
    "        impute_mask = X.isnull()\n",
    "        impute_mask[cols_most_values_missing] = False\n",
    "        return impute_mask    \n",
    "\n",
    "    def replace_nan_const(self, X):\n",
    "        \"\"\" Use fitted ColumnSelector to get categorical and numerical column names.\n",
    "        Fill missing values with 'None' and zero constants accordingly.\"\"\"\n",
    "        X[self.cat_cols] = X[self.cat_cols].fillna('None')\n",
    "        X[self.num_cols] = X[self.num_cols].fillna(0)\n",
    "        return X\n",
    "    \n",
    "    def apply_ordinal_encoder(self, X_no_nan_cat):\n",
    "        \"\"\" Apply OrdinalEncoder to categorical columns,\n",
    "        to get integer values for all categories, including missing.\n",
    "        Make encoder available on class scope, for inversion later.\"\"\"\n",
    "        self.ordinal_encoder = OrdinalEncoder()\n",
    "        X_cat_inverted = self.ordinal_encoder.fit_transform(X_no_nan_cat)\n",
    "        return X_cat_inverted\n",
    "    \n",
    "    def fill_back_nan(self, X_numericalized, impute_mask):\n",
    "        \"\"\" Replace back constant values with nan's, according to imputation mask.\"\"\"\n",
    "        X_numericalized[impute_mask] = np.nan\n",
    "        return X_numericalized\n",
    "    \n",
    "    def apply_imputer(self, X_fill_back_nan):\n",
    "        \"\"\" Use IterativeImputer to predict missing values.\"\"\"\n",
    "        imputer = IterativeImputer(estimator=KNeighborsRegressor(n_neighbors=self.n_neighbors, \n",
    "                                                                 weights=self.weights, \n",
    "                                                                 algorithm=self.algorithm),\n",
    "                                   random_state=42)\n",
    "        return imputer.fit_transform(X_fill_back_nan)\n",
    "    \n",
    "    def invert_cat_encoder(self, X_imputed):\n",
    "        \"\"\" Invert ordinal encoder to get back categorical values\"\"\"\n",
    "        X_cats = X_imputed[:, :len(self.cat_cols)].round()\n",
    "        X_cat_inverted = self.ordinal_encoder.inverse_transform(X_cats)\n",
    "        X_numerics = X_imputed[:, len(self.cat_cols):]\n",
    "        return np.hstack((X_cat_inverted, X_numerics))"
   ]
  },
  {
   "cell_type": "markdown",
   "metadata": {},
   "source": [
    "Create custom One-Hot-Encoder for categorical features, that uses categorical column names from already fitted `CustomImputer`."
   ]
  },
  {
   "cell_type": "code",
   "execution_count": 25,
   "metadata": {},
   "outputs": [],
   "source": [
    "from sklearn.compose import ColumnTransformer\n",
    "\n",
    "class CustomEncoder(BaseEstimator, TransformerMixin):\n",
    "        \n",
    "    def fit(self, X, y=None):\n",
    "        ohe = OneHotEncoder(sparse=False, handle_unknown='ignore')\n",
    "        ohe.fit(X)\n",
    "        cat_cols = imputer['imputer'].cat_cols\n",
    "        self.ct = ColumnTransformer([('ohe', ohe, cat_cols)], remainder='passthrough')\n",
    "        self.ct.fit(X)\n",
    "        return self\n",
    "    \n",
    "    def transform(self, X):\n",
    "        return self.ct.transform(X)"
   ]
  },
  {
   "cell_type": "markdown",
   "metadata": {},
   "source": [
    "Create pipeline that applies `CustomImputer` and `CustomEncoder` in separate steps."
   ]
  },
  {
   "cell_type": "code",
   "execution_count": 26,
   "metadata": {},
   "outputs": [],
   "source": [
    "imputer = Pipeline([\n",
    "    ('imputer', CustomImputer())\n",
    "])\n",
    "\n",
    "preproc = Pipeline([\n",
    "    ('imputer', imputer),\n",
    "    ('encoder', CustomEncoder())\n",
    "])"
   ]
  },
  {
   "cell_type": "markdown",
   "metadata": {},
   "source": [
    "Check the outpout of new preprocessor."
   ]
  },
  {
   "cell_type": "code",
   "execution_count": 27,
   "metadata": {},
   "outputs": [
    {
     "name": "stdout",
     "output_type": "stream",
     "text": [
      "Number of missing values after imputation: 0\n",
      "(1460, 304) None\n"
     ]
    },
    {
     "data": {
      "text/html": [
       "<div>\n",
       "<style scoped>\n",
       "    .dataframe tbody tr th:only-of-type {\n",
       "        vertical-align: middle;\n",
       "    }\n",
       "\n",
       "    .dataframe tbody tr th {\n",
       "        vertical-align: top;\n",
       "    }\n",
       "\n",
       "    .dataframe thead th {\n",
       "        text-align: right;\n",
       "    }\n",
       "</style>\n",
       "<table border=\"1\" class=\"dataframe\">\n",
       "  <thead>\n",
       "    <tr style=\"text-align: right;\">\n",
       "      <th></th>\n",
       "      <th>0</th>\n",
       "      <th>1</th>\n",
       "      <th>2</th>\n",
       "      <th>3</th>\n",
       "      <th>4</th>\n",
       "      <th>5</th>\n",
       "      <th>6</th>\n",
       "      <th>7</th>\n",
       "      <th>8</th>\n",
       "      <th>9</th>\n",
       "      <th>...</th>\n",
       "      <th>294</th>\n",
       "      <th>295</th>\n",
       "      <th>296</th>\n",
       "      <th>297</th>\n",
       "      <th>298</th>\n",
       "      <th>299</th>\n",
       "      <th>300</th>\n",
       "      <th>301</th>\n",
       "      <th>302</th>\n",
       "      <th>303</th>\n",
       "    </tr>\n",
       "  </thead>\n",
       "  <tbody>\n",
       "    <tr>\n",
       "      <td>0</td>\n",
       "      <td>0</td>\n",
       "      <td>0</td>\n",
       "      <td>0</td>\n",
       "      <td>1</td>\n",
       "      <td>0</td>\n",
       "      <td>0</td>\n",
       "      <td>1</td>\n",
       "      <td>0</td>\n",
       "      <td>1</td>\n",
       "      <td>0</td>\n",
       "      <td>...</td>\n",
       "      <td>548</td>\n",
       "      <td>0</td>\n",
       "      <td>61</td>\n",
       "      <td>0</td>\n",
       "      <td>0</td>\n",
       "      <td>0</td>\n",
       "      <td>0</td>\n",
       "      <td>0</td>\n",
       "      <td>2</td>\n",
       "      <td>2008</td>\n",
       "    </tr>\n",
       "    <tr>\n",
       "      <td>1</td>\n",
       "      <td>0</td>\n",
       "      <td>0</td>\n",
       "      <td>0</td>\n",
       "      <td>1</td>\n",
       "      <td>0</td>\n",
       "      <td>0</td>\n",
       "      <td>1</td>\n",
       "      <td>0</td>\n",
       "      <td>1</td>\n",
       "      <td>0</td>\n",
       "      <td>...</td>\n",
       "      <td>460</td>\n",
       "      <td>298</td>\n",
       "      <td>0</td>\n",
       "      <td>0</td>\n",
       "      <td>0</td>\n",
       "      <td>0</td>\n",
       "      <td>0</td>\n",
       "      <td>0</td>\n",
       "      <td>5</td>\n",
       "      <td>2007</td>\n",
       "    </tr>\n",
       "    <tr>\n",
       "      <td>2</td>\n",
       "      <td>0</td>\n",
       "      <td>0</td>\n",
       "      <td>0</td>\n",
       "      <td>1</td>\n",
       "      <td>0</td>\n",
       "      <td>0</td>\n",
       "      <td>1</td>\n",
       "      <td>0</td>\n",
       "      <td>1</td>\n",
       "      <td>0</td>\n",
       "      <td>...</td>\n",
       "      <td>608</td>\n",
       "      <td>0</td>\n",
       "      <td>42</td>\n",
       "      <td>0</td>\n",
       "      <td>0</td>\n",
       "      <td>0</td>\n",
       "      <td>0</td>\n",
       "      <td>0</td>\n",
       "      <td>9</td>\n",
       "      <td>2008</td>\n",
       "    </tr>\n",
       "    <tr>\n",
       "      <td>3</td>\n",
       "      <td>0</td>\n",
       "      <td>0</td>\n",
       "      <td>0</td>\n",
       "      <td>1</td>\n",
       "      <td>0</td>\n",
       "      <td>0</td>\n",
       "      <td>1</td>\n",
       "      <td>0</td>\n",
       "      <td>1</td>\n",
       "      <td>0</td>\n",
       "      <td>...</td>\n",
       "      <td>642</td>\n",
       "      <td>0</td>\n",
       "      <td>35</td>\n",
       "      <td>272</td>\n",
       "      <td>0</td>\n",
       "      <td>0</td>\n",
       "      <td>0</td>\n",
       "      <td>0</td>\n",
       "      <td>2</td>\n",
       "      <td>2006</td>\n",
       "    </tr>\n",
       "    <tr>\n",
       "      <td>4</td>\n",
       "      <td>0</td>\n",
       "      <td>0</td>\n",
       "      <td>0</td>\n",
       "      <td>1</td>\n",
       "      <td>0</td>\n",
       "      <td>0</td>\n",
       "      <td>1</td>\n",
       "      <td>0</td>\n",
       "      <td>1</td>\n",
       "      <td>0</td>\n",
       "      <td>...</td>\n",
       "      <td>836</td>\n",
       "      <td>192</td>\n",
       "      <td>84</td>\n",
       "      <td>0</td>\n",
       "      <td>0</td>\n",
       "      <td>0</td>\n",
       "      <td>0</td>\n",
       "      <td>0</td>\n",
       "      <td>12</td>\n",
       "      <td>2008</td>\n",
       "    </tr>\n",
       "  </tbody>\n",
       "</table>\n",
       "<p>5 rows × 304 columns</p>\n",
       "</div>"
      ],
      "text/plain": [
       "  0   1   2   3   4   5   6   7   8   9    ...  294  295 296  297 298 299 300  \\\n",
       "0   0   0   0   1   0   0   1   0   1   0  ...  548    0  61    0   0   0   0   \n",
       "1   0   0   0   1   0   0   1   0   1   0  ...  460  298   0    0   0   0   0   \n",
       "2   0   0   0   1   0   0   1   0   1   0  ...  608    0  42    0   0   0   0   \n",
       "3   0   0   0   1   0   0   1   0   1   0  ...  642    0  35  272   0   0   0   \n",
       "4   0   0   0   1   0   0   1   0   1   0  ...  836  192  84    0   0   0   0   \n",
       "\n",
       "  301 302   303  \n",
       "0   0   2  2008  \n",
       "1   0   5  2007  \n",
       "2   0   9  2008  \n",
       "3   0   2  2006  \n",
       "4   0  12  2008  \n",
       "\n",
       "[5 rows x 304 columns]"
      ]
     },
     "execution_count": 27,
     "metadata": {},
     "output_type": "execute_result"
    }
   ],
   "source": [
    "preproc_res = preproc.fit_transform(X)\n",
    "print(preproc_res.shape, check_missing(preproc_res))\n",
    "pd.DataFrame(preproc_res).head()"
   ]
  },
  {
   "cell_type": "code",
   "execution_count": 28,
   "metadata": {},
   "outputs": [],
   "source": [
    "estimator = Pipeline([\n",
    "    ('preproc', preproc),\n",
    "    ('model', model)\n",
    "])\n",
    "\n",
    "grid.estimator =  estimator"
   ]
  },
  {
   "cell_type": "code",
   "execution_count": 29,
   "metadata": {},
   "outputs": [],
   "source": [
    "grid.param_grid = {\n",
    "    'preproc__imputer__imputer__n_neighbors': [3, 5, 10, 15, 20],\n",
    "    'preproc__imputer__imputer__weights': ['uniform', 'distance']\n",
    "}"
   ]
  },
  {
   "cell_type": "code",
   "execution_count": 30,
   "metadata": {},
   "outputs": [
    {
     "name": "stderr",
     "output_type": "stream",
     "text": [
      "/opt/conda/lib/python3.6/site-packages/joblib/externals/loky/process_executor.py:706: UserWarning: A worker stopped while some jobs were given to the executor. This can be caused by a too short worker timeout or by a memory leak.\n",
      "  \"timeout or by a memory leak.\", UserWarning\n",
      "/opt/conda/lib/python3.6/site-packages/sklearn/impute/_iterative.py:603: ConvergenceWarning: [IterativeImputer] Early stopping criterion not reached.\n",
      "  \" reached.\", ConvergenceWarning)\n"
     ]
    },
    {
     "data": {
      "text/plain": [
       "(array([0.15051219, 0.15047996, 0.1494927 , 0.14943995, 0.150222  ,\n",
       "        0.14972539, 0.14900967, 0.14833345, 0.14951359, 0.14907698]),\n",
       " array([0.00803959, 0.00797067, 0.00813004, 0.0083092 , 0.008971  ,\n",
       "        0.00871621, 0.00871822, 0.00898254, 0.0074017 , 0.00782198]))"
      ]
     },
     "execution_count": 30,
     "metadata": {},
     "output_type": "execute_result"
    }
   ],
   "source": [
    "grid.fit(X, y)\n",
    "grid.cv_results_['mean_test_score'], grid.cv_results_['std_test_score']"
   ]
  },
  {
   "cell_type": "code",
   "execution_count": 31,
   "metadata": {},
   "outputs": [
    {
     "data": {
      "text/plain": [
       "Pipeline(memory=None,\n",
       "         steps=[('preproc',\n",
       "                 Pipeline(memory=None,\n",
       "                          steps=[('imputer',\n",
       "                                  Pipeline(memory=None,\n",
       "                                           steps=[('imputer',\n",
       "                                                   CustomImputer(algorithm='ball_tree',\n",
       "                                                                 n_neighbors=3,\n",
       "                                                                 weights='uniform'))],\n",
       "                                           verbose=False)),\n",
       "                                 ('encoder', CustomEncoder())],\n",
       "                          verbose=False)),\n",
       "                ('model',\n",
       "                 RandomForestRegressor(bootstrap=True, criterion='mse',\n",
       "                                       max_depth=None, max_features='auto',\n",
       "                                       max_leaf_nodes=None,\n",
       "                                       min_impurity_decrease=0.0,\n",
       "                                       min_impurity_split=None,\n",
       "                                       min_samples_leaf=1, min_samples_split=2,\n",
       "                                       min_weight_fraction_leaf=0.0,\n",
       "                                       n_estimators=100, n_jobs=-1,\n",
       "                                       oob_score=True, random_state=42,\n",
       "                                       verbose=0, warm_start=False))],\n",
       "         verbose=False)"
      ]
     },
     "execution_count": 31,
     "metadata": {},
     "output_type": "execute_result"
    }
   ],
   "source": [
    "grid.best_estimator_"
   ]
  },
  {
   "cell_type": "markdown",
   "metadata": {},
   "source": [
    "Results didn't improve, because in this problem most of the variables have missing values not at random, but rather missing values having actual meaning, so doing iterative imputation only adds noise.  \n",
    "\n",
    "Anyway, it was a fun exercise to play around with the concept and hopefully it could be reused with other datasets in the future.  \n",
    "Of course, there are other variations, tuning and estimators to play around with, but this should at least give inspiration to get started :)  \n",
    "\n",
    "Suggestions and comments are appreciated!"
   ]
  }
 ],
 "metadata": {
  "kernelspec": {
   "display_name": "Python 3",
   "language": "python",
   "name": "python3"
  },
  "language_info": {
   "codemirror_mode": {
    "name": "ipython",
    "version": 3
   },
   "file_extension": ".py",
   "mimetype": "text/x-python",
   "name": "python",
   "nbconvert_exporter": "python",
   "pygments_lexer": "ipython3",
   "version": "3.6.6"
  }
 },
 "nbformat": 4,
 "nbformat_minor": 1
}
